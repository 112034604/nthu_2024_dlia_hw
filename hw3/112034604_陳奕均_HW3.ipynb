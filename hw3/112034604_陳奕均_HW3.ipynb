{
  "cells": [
    {
      "cell_type": "markdown",
      "metadata": {
        "id": "Li0bVCTuxc6n"
      },
      "source": [
        "<div align=\"center\">\n",
        "\n",
        "#### Lab 3\n",
        "\n",
        "# National Tsing Hua University\n",
        "\n",
        "#### Spring 2024\n",
        "\n",
        "#### 11220IEEM 513600\n",
        "\n",
        "#### Deep Learning and Industrial Applications\n",
        "    \n",
        "## Lab 3: Anomaly Detection in Industrial Applications\n",
        "\n",
        "</div>"
      ]
    },
    {
      "cell_type": "markdown",
      "metadata": {
        "id": "OlvflhYwCu8Q"
      },
      "source": [
        "### Introduction\n",
        "\n",
        "In today's industrial landscape, the ability to detect anomalies in manufacturing processes and products is critical for maintaining quality, efficiency, and safety. This lab focuses on leveraging deep learning techniques for anomaly detection in various industrial applications, using the MVTEC Anomaly Detection Dataset. By employing ImageNet-pretrained models available in torchvision, students will gain hands-on experience in classfying defects and irregularities across different types of industrial products.\n",
        "\n",
        "Throughout this lab, you'll be involved in the following key activities:\n",
        "- Explore and process the MVTec Anomaly Detection Dataset.\n",
        "- Apply ImageNet-pretrained models from [Torchvision](https://pytorch.org/vision/stable/models.html) to detect anomalies in industrial products.\n",
        "- Evaluate the performance of the models to understand their effectiveness in real-world industrial applications.\n",
        "\n",
        "### Objectives\n",
        "\n",
        "- Understand the principles of anomaly detection in the context of industrial applications.\n",
        "- Learn how to implement and utilize ImageNet-pretrained models for detecting anomalies.\n",
        "- Analyze and interpret the results of the anomaly detection models to assess their practicality in industrial settings.\n",
        "\n",
        "### Dataset\n",
        "\n",
        "The MVTec AD Dataset is a comprehensive collection of high-resolution images across different categories of industrial products, such as bottles, cables, and metal nuts, each with various types of defects. This dataset is pivotal for developing and benchmarking anomaly detection algorithms. You can download our lab's dataset [here](https://drive.google.com/file/d/19600hUOpx0hl78TdpdH0oyy-gGTk_F_o/view?usp=share_link). You can drop downloaded data and drop to colab, or you can put into yor google drive.\n",
        "\n",
        "### References\n",
        "- [MVTec AD Dataset](https://www.kaggle.com/datasets/ipythonx/mvtec-ad/data) for the dataset used in this lab.\n",
        "- [Torchvision Models](https://pytorch.org/vision/stable/models.html) for accessing ImageNet-pretrained models to be used in anomaly detection tasks.\n",
        "- [State-of-the-Art Anomaly Detection on MVTec AD](https://paperswithcode.com/sota/anomaly-detection-on-mvtec-ad) for insights into the latest benchmarks and methodologies in anomaly detection applied to the MVTec AD dataset.\n",
        "- [CVPR 2019: MVTec AD — A Comprehensive Real-World Dataset for Unsupervised Anomaly Detection] for the original paper of MVTec AD dataset."
      ]
    },
    {
      "cell_type": "code",
      "execution_count": 1,
      "metadata": {
        "id": "GuiEw1L0Cu8Q"
      },
      "outputs": [],
      "source": [
        "import glob\n",
        "import matplotlib.pyplot as plt\n",
        "import random\n",
        "from tqdm.auto import tqdm\n",
        "import cv2\n",
        "import numpy as np"
      ]
    },
    {
      "cell_type": "code",
      "execution_count": 2,
      "metadata": {
        "id": "qvLTTCGsCu8R",
        "colab": {
          "base_uri": "https://localhost:8080/"
        },
        "outputId": "bbf8c991-00eb-47e1-a7f5-74e7c45f35ea"
      },
      "outputs": [
        {
          "output_type": "stream",
          "name": "stdout",
          "text": [
            "Mounted at /content/drive\n"
          ]
        }
      ],
      "source": [
        "from google.colab import drive\n",
        "\n",
        "drive.mount('/content/drive')\n",
        "# !tar -xvf drive/MyDrive/zipper.zip zipper"
      ]
    },
    {
      "cell_type": "code",
      "source": [
        "# import zipfile\n",
        "\n",
        "# # 指定壓縮檔案的路徑\n",
        "# zip_file_path = '/content/drive/MyDrive/Colab Notebooks/zipper.zip'\n",
        "\n",
        "# # 指定解壓縮後的目標路徑\n",
        "# extract_to_path = '/content/drive/MyDrive/Colab Notebooks/zipper_0'\n",
        "\n",
        "# # 解壓縮檔案\n",
        "# with zipfile.ZipFile(zip_file_path, 'r') as zip_ref:\n",
        "#     zip_ref.extractall(extract_to_path)\n",
        "\n",
        "# print(\"解壓縮完成\")\n"
      ],
      "metadata": {
        "id": "6WQ3z6fjv6oo"
      },
      "execution_count": 3,
      "outputs": []
    },
    {
      "cell_type": "code",
      "execution_count": 4,
      "metadata": {
        "id": "yXfjTWKUCu8R"
      },
      "outputs": [],
      "source": [
        "file_paths = glob.glob('/content/drive/MyDrive/Colab Notebooks/zipper/*/*/*.png')\n",
        "file_paths = sorted([path for path in file_paths if path.split('/')[-1] in [f'{i:03}.png' for i in range(10)]])"
      ]
    },
    {
      "cell_type": "code",
      "execution_count": 5,
      "metadata": {
        "id": "3GiOZBRJCu8S",
        "colab": {
          "base_uri": "https://localhost:8080/",
          "height": 49,
          "referenced_widgets": [
            "ce2ccea803a648a7ae028eafada31bd4",
            "9d2b0e7bfa3b46cba1338fe34458d080",
            "03a1502ad21b45bc8f41f31ad597d12f",
            "8fb7ffef9f5e4c23ab93b14856f21395",
            "b4342513fbd1423cbbca955e5c0fbea4",
            "68469a732e3b47c9b2f6bac67550185f",
            "5f6a3877484b4e179717f43a9e7be722",
            "049e167d3b7544388803cdb10772ccbe",
            "2da9708be65d40c1bd6bcf18ff9b6918",
            "31187468e26748099ab1ea67e054e8bb",
            "5db90a2f261d41fcb5dc880d1bd54978"
          ]
        },
        "outputId": "94831677-9c04-41be-d89b-23d5fd479ecd"
      },
      "outputs": [
        {
          "output_type": "display_data",
          "data": {
            "text/plain": [
              "  0%|          | 0/90 [00:00<?, ?it/s]"
            ],
            "application/vnd.jupyter.widget-view+json": {
              "version_major": 2,
              "version_minor": 0,
              "model_id": "ce2ccea803a648a7ae028eafada31bd4"
            }
          },
          "metadata": {}
        }
      ],
      "source": [
        "all_data = []\n",
        "\n",
        "for img in tqdm(file_paths):\n",
        "    img = cv2.imread(img)\n",
        "    img = img[..., ::-1]\n",
        "    all_data.append(img)\n",
        "\n",
        "# 檢查 all_data 中每個圖像的形狀\n",
        "for img in all_data:\n",
        "    if img.shape != all_data[0].shape:\n",
        "        raise ValueError(\"所有圖像的形狀必須相同\")\n",
        "\n",
        "# 使用 np.stack() 對 all_data 進行堆疊\n",
        "# all_data = np.stack(all_data)\n",
        "# print(all_data.shape)"
      ]
    },
    {
      "cell_type": "code",
      "execution_count": 6,
      "metadata": {
        "id": "ii8LH8s4Cu8S"
      },
      "outputs": [],
      "source": [
        "# import matplotlib.pyplot as plt\n",
        "# import numpy as np\n",
        "\n",
        "# classes = sorted(set([path.split('/')[1] for path in file_paths]))\n",
        "# print(f'Classes: {classes}')\n",
        "\n",
        "# images_per_class = len(all_data) // len(classes)\n",
        "# fig, axs = plt.subplots(len(classes), 2, figsize=(6, 4 * len(classes)))\n",
        "\n",
        "# for i, class_name in enumerate(classes):\n",
        "#     index = i * images_per_class\n",
        "#     for j in range(2):\n",
        "#         axs[i, j].set_title(f'{i}. {class_name}')\n",
        "#         axs[i, j].imshow(all_data[index + j])\n",
        "#         axs[i, j].axis('off')\n",
        "\n",
        "# plt.tight_layout()\n",
        "# plt.show()"
      ]
    },
    {
      "cell_type": "markdown",
      "metadata": {
        "id": "w-1PsC--M7pT"
      },
      "source": [
        "## A. Data Loading and Preprocessing"
      ]
    },
    {
      "cell_type": "code",
      "execution_count": 7,
      "metadata": {
        "id": "nGFI8GMpCu8S",
        "colab": {
          "base_uri": "https://localhost:8080/"
        },
        "outputId": "33b9be39-d4f2-4433-e479-bf361ffc1d86"
      },
      "outputs": [
        {
          "output_type": "stream",
          "name": "stdout",
          "text": [
            "Shape of x_train: (64, 3, 1024, 1024)\n",
            "Shape of x_val: (16, 3, 1024, 1024)\n",
            "Shape of y_train: (64,)\n",
            "Shape of y_val: (16,)\n"
          ]
        }
      ],
      "source": [
        "import torch\n",
        "from torch.utils.data import DataLoader, TensorDataset, random_split\n",
        "import numpy as np\n",
        "\n",
        "num_classes = 8\n",
        "images_per_class = 10\n",
        "train_images_per_class = int(images_per_class * 0.8)\n",
        "val_images_per_class = int(images_per_class * 0.2)\n",
        "\n",
        "x_train = []\n",
        "x_val = []\n",
        "\n",
        "for i in range(num_classes):\n",
        "    start_index = i * images_per_class\n",
        "    x_train.extend(all_data[start_index:start_index + train_images_per_class])\n",
        "    x_val.extend(all_data[start_index + train_images_per_class:start_index + images_per_class])\n",
        "\n",
        "# The shape changes from (batch_size, height, width, channels) to (batch_size, channels, height, width)\n",
        "x_train = np.transpose(np.array(x_train), (0, 3, 1, 2))\n",
        "x_val = np.transpose(np.array(x_val), (0, 3, 1, 2))\n",
        "\n",
        "y_train = np.concatenate([np.full(train_images_per_class, i) for i in range(num_classes)])\n",
        "y_val = np.concatenate([np.full(val_images_per_class, i) for i in range(num_classes)])\n",
        "\n",
        "print(f'Shape of x_train: {x_train.shape}')\n",
        "print(f'Shape of x_val: {x_val.shape}')\n",
        "print(f'Shape of y_train: {y_train.shape}')\n",
        "print(f'Shape of y_val: {y_val.shape}')"
      ]
    },
    {
      "cell_type": "code",
      "execution_count": 8,
      "metadata": {
        "id": "h-CnfsmbCu8T"
      },
      "outputs": [],
      "source": [
        "from torchvision import datasets, transforms\n",
        "from torch.utils.data import DataLoader, Dataset\n",
        "from PIL import Image\n",
        "\n",
        "train_transforms = transforms.Compose(\n",
        "    [\n",
        "        transforms.Resize((128, 128)),\n",
        "        transforms.AutoAugment(),\n",
        "        transforms.RandomHorizontalFlip(),\n",
        "        transforms.ToTensor(),\n",
        "    ]\n",
        ")\n",
        "\n",
        "val_transforms = transforms.Compose(\n",
        "    [\n",
        "        transforms.Resize((128, 128)),\n",
        "        transforms.ToTensor(),\n",
        "    ]\n",
        ")\n",
        "\n",
        "class MyDataset(Dataset):\n",
        "    def __init__(self, x, y, transform=None):\n",
        "        self.x = x\n",
        "        self.y = torch.from_numpy(y).long()\n",
        "        self.transform = transform\n",
        "\n",
        "    def __len__(self):\n",
        "        return len(self.x)\n",
        "\n",
        "    def __getitem__(self, idx):\n",
        "        new_x = np.transpose(self.x[idx], (1, 2, 0))\n",
        "        return self.transform(Image.fromarray(new_x)), self.y[idx]"
      ]
    },
    {
      "cell_type": "code",
      "execution_count": 9,
      "metadata": {
        "id": "53ZVFFacCu8T"
      },
      "outputs": [],
      "source": [
        "batch_size = 32\n",
        "\n",
        "train_dataset = MyDataset(x_train, y_train, train_transforms)\n",
        "val_dataset = MyDataset(x_val, y_val, val_transforms)\n",
        "\n",
        "train_loader = DataLoader(dataset=train_dataset, batch_size=batch_size, shuffle=True, num_workers=2, pin_memory=True, persistent_workers=True)\n",
        "val_loader = DataLoader(dataset=val_dataset, batch_size=batch_size, shuffle=False, num_workers=1, pin_memory=True, persistent_workers=True)"
      ]
    },
    {
      "cell_type": "markdown",
      "metadata": {
        "id": "oaLGtT28xc6s"
      },
      "source": [
        "## B. Defining Neural Networks"
      ]
    },
    {
      "cell_type": "code",
      "execution_count": 10,
      "metadata": {
        "id": "oDX8iDKJCu8U",
        "colab": {
          "base_uri": "https://localhost:8080/"
        },
        "outputId": "b321d3b5-7031-4267-b96e-88ce17771568"
      },
      "outputs": [
        {
          "output_type": "stream",
          "name": "stderr",
          "text": [
            "Downloading: \"https://download.pytorch.org/models/resnet18-f37072fd.pth\" to /root/.cache/torch/hub/checkpoints/resnet18-f37072fd.pth\n",
            "100%|██████████| 44.7M/44.7M [00:00<00:00, 103MB/s]\n"
          ]
        },
        {
          "output_type": "stream",
          "name": "stdout",
          "text": [
            "ResNet(\n",
            "  (conv1): Conv2d(3, 64, kernel_size=(7, 7), stride=(2, 2), padding=(3, 3), bias=False)\n",
            "  (bn1): BatchNorm2d(64, eps=1e-05, momentum=0.1, affine=True, track_running_stats=True)\n",
            "  (relu): ReLU(inplace=True)\n",
            "  (maxpool): MaxPool2d(kernel_size=3, stride=2, padding=1, dilation=1, ceil_mode=False)\n",
            "  (layer1): Sequential(\n",
            "    (0): BasicBlock(\n",
            "      (conv1): Conv2d(64, 64, kernel_size=(3, 3), stride=(1, 1), padding=(1, 1), bias=False)\n",
            "      (bn1): BatchNorm2d(64, eps=1e-05, momentum=0.1, affine=True, track_running_stats=True)\n",
            "      (relu): ReLU(inplace=True)\n",
            "      (conv2): Conv2d(64, 64, kernel_size=(3, 3), stride=(1, 1), padding=(1, 1), bias=False)\n",
            "      (bn2): BatchNorm2d(64, eps=1e-05, momentum=0.1, affine=True, track_running_stats=True)\n",
            "    )\n",
            "    (1): BasicBlock(\n",
            "      (conv1): Conv2d(64, 64, kernel_size=(3, 3), stride=(1, 1), padding=(1, 1), bias=False)\n",
            "      (bn1): BatchNorm2d(64, eps=1e-05, momentum=0.1, affine=True, track_running_stats=True)\n",
            "      (relu): ReLU(inplace=True)\n",
            "      (conv2): Conv2d(64, 64, kernel_size=(3, 3), stride=(1, 1), padding=(1, 1), bias=False)\n",
            "      (bn2): BatchNorm2d(64, eps=1e-05, momentum=0.1, affine=True, track_running_stats=True)\n",
            "    )\n",
            "  )\n",
            "  (layer2): Sequential(\n",
            "    (0): BasicBlock(\n",
            "      (conv1): Conv2d(64, 128, kernel_size=(3, 3), stride=(2, 2), padding=(1, 1), bias=False)\n",
            "      (bn1): BatchNorm2d(128, eps=1e-05, momentum=0.1, affine=True, track_running_stats=True)\n",
            "      (relu): ReLU(inplace=True)\n",
            "      (conv2): Conv2d(128, 128, kernel_size=(3, 3), stride=(1, 1), padding=(1, 1), bias=False)\n",
            "      (bn2): BatchNorm2d(128, eps=1e-05, momentum=0.1, affine=True, track_running_stats=True)\n",
            "      (downsample): Sequential(\n",
            "        (0): Conv2d(64, 128, kernel_size=(1, 1), stride=(2, 2), bias=False)\n",
            "        (1): BatchNorm2d(128, eps=1e-05, momentum=0.1, affine=True, track_running_stats=True)\n",
            "      )\n",
            "    )\n",
            "    (1): BasicBlock(\n",
            "      (conv1): Conv2d(128, 128, kernel_size=(3, 3), stride=(1, 1), padding=(1, 1), bias=False)\n",
            "      (bn1): BatchNorm2d(128, eps=1e-05, momentum=0.1, affine=True, track_running_stats=True)\n",
            "      (relu): ReLU(inplace=True)\n",
            "      (conv2): Conv2d(128, 128, kernel_size=(3, 3), stride=(1, 1), padding=(1, 1), bias=False)\n",
            "      (bn2): BatchNorm2d(128, eps=1e-05, momentum=0.1, affine=True, track_running_stats=True)\n",
            "    )\n",
            "  )\n",
            "  (layer3): Sequential(\n",
            "    (0): BasicBlock(\n",
            "      (conv1): Conv2d(128, 256, kernel_size=(3, 3), stride=(2, 2), padding=(1, 1), bias=False)\n",
            "      (bn1): BatchNorm2d(256, eps=1e-05, momentum=0.1, affine=True, track_running_stats=True)\n",
            "      (relu): ReLU(inplace=True)\n",
            "      (conv2): Conv2d(256, 256, kernel_size=(3, 3), stride=(1, 1), padding=(1, 1), bias=False)\n",
            "      (bn2): BatchNorm2d(256, eps=1e-05, momentum=0.1, affine=True, track_running_stats=True)\n",
            "      (downsample): Sequential(\n",
            "        (0): Conv2d(128, 256, kernel_size=(1, 1), stride=(2, 2), bias=False)\n",
            "        (1): BatchNorm2d(256, eps=1e-05, momentum=0.1, affine=True, track_running_stats=True)\n",
            "      )\n",
            "    )\n",
            "    (1): BasicBlock(\n",
            "      (conv1): Conv2d(256, 256, kernel_size=(3, 3), stride=(1, 1), padding=(1, 1), bias=False)\n",
            "      (bn1): BatchNorm2d(256, eps=1e-05, momentum=0.1, affine=True, track_running_stats=True)\n",
            "      (relu): ReLU(inplace=True)\n",
            "      (conv2): Conv2d(256, 256, kernel_size=(3, 3), stride=(1, 1), padding=(1, 1), bias=False)\n",
            "      (bn2): BatchNorm2d(256, eps=1e-05, momentum=0.1, affine=True, track_running_stats=True)\n",
            "    )\n",
            "  )\n",
            "  (layer4): Sequential(\n",
            "    (0): BasicBlock(\n",
            "      (conv1): Conv2d(256, 512, kernel_size=(3, 3), stride=(2, 2), padding=(1, 1), bias=False)\n",
            "      (bn1): BatchNorm2d(512, eps=1e-05, momentum=0.1, affine=True, track_running_stats=True)\n",
            "      (relu): ReLU(inplace=True)\n",
            "      (conv2): Conv2d(512, 512, kernel_size=(3, 3), stride=(1, 1), padding=(1, 1), bias=False)\n",
            "      (bn2): BatchNorm2d(512, eps=1e-05, momentum=0.1, affine=True, track_running_stats=True)\n",
            "      (downsample): Sequential(\n",
            "        (0): Conv2d(256, 512, kernel_size=(1, 1), stride=(2, 2), bias=False)\n",
            "        (1): BatchNorm2d(512, eps=1e-05, momentum=0.1, affine=True, track_running_stats=True)\n",
            "      )\n",
            "    )\n",
            "    (1): BasicBlock(\n",
            "      (conv1): Conv2d(512, 512, kernel_size=(3, 3), stride=(1, 1), padding=(1, 1), bias=False)\n",
            "      (bn1): BatchNorm2d(512, eps=1e-05, momentum=0.1, affine=True, track_running_stats=True)\n",
            "      (relu): ReLU(inplace=True)\n",
            "      (conv2): Conv2d(512, 512, kernel_size=(3, 3), stride=(1, 1), padding=(1, 1), bias=False)\n",
            "      (bn2): BatchNorm2d(512, eps=1e-05, momentum=0.1, affine=True, track_running_stats=True)\n",
            "    )\n",
            "  )\n",
            "  (avgpool): AdaptiveAvgPool2d(output_size=(1, 1))\n",
            "  (fc): Linear(in_features=512, out_features=8, bias=True)\n",
            ")\n"
          ]
        }
      ],
      "source": [
        "import torch.nn as nn\n",
        "import torch.nn.functional as F\n",
        "from torchvision import models\n",
        "\n",
        "model = models.resnet18(weights='IMAGENET1K_V1')\n",
        "\n",
        "# ConvNet as fixed feature extractor (freeze parameters)\n",
        "for param in model.parameters():\n",
        "    param.requires_grad = False\n",
        "\n",
        "num_ftrs = model.fc.in_features\n",
        "num_class = 8\n",
        "\n",
        "# change # of class from 1000 into 8 in the last layer\n",
        "model.fc = nn.Linear(num_ftrs, num_class)\n",
        "print(model)"
      ]
    },
    {
      "cell_type": "markdown",
      "metadata": {
        "id": "nvLTU-IfZLqn"
      },
      "source": [
        "## C. Training the Neural Network"
      ]
    },
    {
      "cell_type": "code",
      "execution_count": 11,
      "metadata": {
        "id": "45ol4lpVxc6t",
        "colab": {
          "base_uri": "https://localhost:8080/",
          "height": 1000,
          "referenced_widgets": [
            "6e5265f677e949218afcbe69587d1e0a",
            "1e16380047e249e9ae6b79f15a665b4d",
            "e2cfc73e3e4240bc95ee6ecd6e65f0ce",
            "1a64ccce9a044c778bc3f0f54d0f3422",
            "559994b9d2db4d45a8630f75d44771ae",
            "8610eb7a39064f21857f004c91003b5f",
            "494b64b3d5cd40c4b65e429b84cca172",
            "489157e731014cf1a983a52aa7903d97",
            "3753754c39e64b43a89bb5207660da7b",
            "a541519983b34c1a9e17165fe9926482",
            "f4e239f3b94c4e1b97cbeacee2a4845a"
          ]
        },
        "outputId": "e2bafb58-a11d-435c-fff6-047e28896fd1"
      },
      "outputs": [
        {
          "output_type": "display_data",
          "data": {
            "text/plain": [
              "  0%|          | 0/100 [00:00<?, ?it/s]"
            ],
            "application/vnd.jupyter.widget-view+json": {
              "version_major": 2,
              "version_minor": 0,
              "model_id": "6e5265f677e949218afcbe69587d1e0a"
            }
          },
          "metadata": {}
        },
        {
          "output_type": "stream",
          "name": "stderr",
          "text": [
            "/usr/lib/python3.10/multiprocessing/popen_fork.py:66: RuntimeWarning: os.fork() was called. os.fork() is incompatible with multithreaded code, and JAX is multithreaded, so this will likely lead to a deadlock.\n",
            "  self.pid = os.fork()\n"
          ]
        },
        {
          "output_type": "stream",
          "name": "stdout",
          "text": [
            "Epoch 1/100, Train loss: 2.3548, Train acc: 4.6875%, Val loss: 2.0976, Val acc: 12.5000%, Best Val loss: 2.0976 Best Val acc: 12.50%\n",
            "Epoch 2/100, Train loss: 2.3230, Train acc: 7.8125%, Val loss: 2.0957, Val acc: 12.5000%, Best Val loss: 2.0957 Best Val acc: 12.50%\n",
            "Epoch 3/100, Train loss: 2.1827, Train acc: 12.5000%, Val loss: 2.1156, Val acc: 12.5000%, Best Val loss: 2.0957 Best Val acc: 12.50%\n",
            "Epoch 4/100, Train loss: 2.2551, Train acc: 12.5000%, Val loss: 2.1306, Val acc: 12.5000%, Best Val loss: 2.0957 Best Val acc: 12.50%\n",
            "Epoch 5/100, Train loss: 2.1292, Train acc: 15.6250%, Val loss: 2.1315, Val acc: 12.5000%, Best Val loss: 2.0957 Best Val acc: 12.50%\n",
            "Epoch 6/100, Train loss: 2.1187, Train acc: 18.7500%, Val loss: 2.1275, Val acc: 12.5000%, Best Val loss: 2.0957 Best Val acc: 12.50%\n",
            "Epoch 7/100, Train loss: 2.1960, Train acc: 15.6250%, Val loss: 2.1274, Val acc: 12.5000%, Best Val loss: 2.0957 Best Val acc: 12.50%\n",
            "Epoch 8/100, Train loss: 2.1204, Train acc: 12.5000%, Val loss: 2.1272, Val acc: 12.5000%, Best Val loss: 2.0957 Best Val acc: 12.50%\n",
            "Epoch 9/100, Train loss: 2.1031, Train acc: 18.7500%, Val loss: 2.1378, Val acc: 12.5000%, Best Val loss: 2.0957 Best Val acc: 12.50%\n",
            "Epoch 10/100, Train loss: 2.0425, Train acc: 25.0000%, Val loss: 2.1448, Val acc: 12.5000%, Best Val loss: 2.0957 Best Val acc: 12.50%\n",
            "Epoch 11/100, Train loss: 2.0671, Train acc: 9.3750%, Val loss: 2.1459, Val acc: 12.5000%, Best Val loss: 2.0957 Best Val acc: 12.50%\n",
            "Epoch 12/100, Train loss: 1.9319, Train acc: 23.4375%, Val loss: 2.1451, Val acc: 18.7500%, Best Val loss: 2.0957 Best Val acc: 18.75%\n",
            "Epoch 13/100, Train loss: 1.9958, Train acc: 14.0625%, Val loss: 2.1428, Val acc: 12.5000%, Best Val loss: 2.0957 Best Val acc: 18.75%\n",
            "Epoch 14/100, Train loss: 2.0173, Train acc: 21.8750%, Val loss: 2.1451, Val acc: 12.5000%, Best Val loss: 2.0957 Best Val acc: 18.75%\n",
            "Epoch 15/100, Train loss: 1.9568, Train acc: 31.2500%, Val loss: 2.1428, Val acc: 12.5000%, Best Val loss: 2.0957 Best Val acc: 18.75%\n",
            "Epoch 16/100, Train loss: 1.9256, Train acc: 32.8125%, Val loss: 2.1458, Val acc: 12.5000%, Best Val loss: 2.0957 Best Val acc: 18.75%\n",
            "Epoch 17/100, Train loss: 1.9158, Train acc: 26.5625%, Val loss: 2.1627, Val acc: 12.5000%, Best Val loss: 2.0957 Best Val acc: 18.75%\n",
            "Epoch 18/100, Train loss: 1.9314, Train acc: 25.0000%, Val loss: 2.1698, Val acc: 12.5000%, Best Val loss: 2.0957 Best Val acc: 18.75%\n",
            "Epoch 19/100, Train loss: 1.8278, Train acc: 34.3750%, Val loss: 2.1873, Val acc: 12.5000%, Best Val loss: 2.0957 Best Val acc: 18.75%\n",
            "Epoch 20/100, Train loss: 1.8949, Train acc: 28.1250%, Val loss: 2.1885, Val acc: 12.5000%, Best Val loss: 2.0957 Best Val acc: 18.75%\n",
            "Epoch 21/100, Train loss: 1.9236, Train acc: 31.2500%, Val loss: 2.2087, Val acc: 12.5000%, Best Val loss: 2.0957 Best Val acc: 18.75%\n",
            "Epoch 22/100, Train loss: 1.9032, Train acc: 28.1250%, Val loss: 2.2077, Val acc: 12.5000%, Best Val loss: 2.0957 Best Val acc: 18.75%\n",
            "Epoch 23/100, Train loss: 1.8452, Train acc: 31.2500%, Val loss: 2.2058, Val acc: 12.5000%, Best Val loss: 2.0957 Best Val acc: 18.75%\n",
            "Epoch 24/100, Train loss: 1.9226, Train acc: 29.6875%, Val loss: 2.1953, Val acc: 12.5000%, Best Val loss: 2.0957 Best Val acc: 18.75%\n",
            "Epoch 25/100, Train loss: 1.8513, Train acc: 35.9375%, Val loss: 2.1900, Val acc: 12.5000%, Best Val loss: 2.0957 Best Val acc: 18.75%\n",
            "Epoch 26/100, Train loss: 1.8751, Train acc: 29.6875%, Val loss: 2.2102, Val acc: 12.5000%, Best Val loss: 2.0957 Best Val acc: 18.75%\n",
            "Epoch 27/100, Train loss: 1.8266, Train acc: 31.2500%, Val loss: 2.2198, Val acc: 12.5000%, Best Val loss: 2.0957 Best Val acc: 18.75%\n",
            "Epoch 28/100, Train loss: 1.7804, Train acc: 42.1875%, Val loss: 2.2463, Val acc: 12.5000%, Best Val loss: 2.0957 Best Val acc: 18.75%\n",
            "Epoch 29/100, Train loss: 1.8564, Train acc: 34.3750%, Val loss: 2.2895, Val acc: 12.5000%, Best Val loss: 2.0957 Best Val acc: 18.75%\n",
            "Epoch 30/100, Train loss: 1.7354, Train acc: 45.3125%, Val loss: 2.3495, Val acc: 12.5000%, Best Val loss: 2.0957 Best Val acc: 18.75%\n",
            "Epoch 31/100, Train loss: 1.7383, Train acc: 40.6250%, Val loss: 2.3513, Val acc: 12.5000%, Best Val loss: 2.0957 Best Val acc: 18.75%\n",
            "Epoch 32/100, Train loss: 1.7264, Train acc: 43.7500%, Val loss: 2.3689, Val acc: 12.5000%, Best Val loss: 2.0957 Best Val acc: 18.75%\n",
            "Epoch 33/100, Train loss: 1.6476, Train acc: 53.1250%, Val loss: 2.3427, Val acc: 12.5000%, Best Val loss: 2.0957 Best Val acc: 18.75%\n",
            "Epoch 34/100, Train loss: 1.8480, Train acc: 37.5000%, Val loss: 2.3149, Val acc: 12.5000%, Best Val loss: 2.0957 Best Val acc: 18.75%\n",
            "Epoch 35/100, Train loss: 1.7538, Train acc: 45.3125%, Val loss: 2.2859, Val acc: 12.5000%, Best Val loss: 2.0957 Best Val acc: 18.75%\n",
            "Epoch 36/100, Train loss: 1.6674, Train acc: 48.4375%, Val loss: 2.2474, Val acc: 6.2500%, Best Val loss: 2.0957 Best Val acc: 18.75%\n",
            "Epoch 37/100, Train loss: 1.6225, Train acc: 43.7500%, Val loss: 2.2167, Val acc: 6.2500%, Best Val loss: 2.0957 Best Val acc: 18.75%\n",
            "Epoch 38/100, Train loss: 1.6079, Train acc: 46.8750%, Val loss: 2.1799, Val acc: 0.0000%, Best Val loss: 2.0957 Best Val acc: 18.75%\n",
            "Epoch 39/100, Train loss: 1.7495, Train acc: 29.6875%, Val loss: 2.1322, Val acc: 0.0000%, Best Val loss: 2.0957 Best Val acc: 18.75%\n",
            "Epoch 40/100, Train loss: 1.7318, Train acc: 40.6250%, Val loss: 2.0962, Val acc: 0.0000%, Best Val loss: 2.0957 Best Val acc: 18.75%\n",
            "Epoch 41/100, Train loss: 1.6190, Train acc: 45.3125%, Val loss: 2.0953, Val acc: 12.5000%, Best Val loss: 2.0953 Best Val acc: 18.75%\n",
            "Epoch 42/100, Train loss: 1.5738, Train acc: 48.4375%, Val loss: 2.0907, Val acc: 12.5000%, Best Val loss: 2.0907 Best Val acc: 18.75%\n",
            "Epoch 43/100, Train loss: 1.6742, Train acc: 40.6250%, Val loss: 2.0634, Val acc: 18.7500%, Best Val loss: 2.0634 Best Val acc: 18.75%\n",
            "Epoch 44/100, Train loss: 1.6116, Train acc: 50.0000%, Val loss: 2.0451, Val acc: 12.5000%, Best Val loss: 2.0451 Best Val acc: 18.75%\n",
            "Epoch 45/100, Train loss: 1.5430, Train acc: 48.4375%, Val loss: 2.0210, Val acc: 18.7500%, Best Val loss: 2.0210 Best Val acc: 18.75%\n",
            "Epoch 46/100, Train loss: 1.4945, Train acc: 60.9375%, Val loss: 2.0080, Val acc: 18.7500%, Best Val loss: 2.0080 Best Val acc: 18.75%\n",
            "Epoch 47/100, Train loss: 1.5902, Train acc: 46.8750%, Val loss: 2.0125, Val acc: 25.0000%, Best Val loss: 2.0080 Best Val acc: 25.00%\n",
            "Epoch 48/100, Train loss: 1.6323, Train acc: 46.8750%, Val loss: 2.0110, Val acc: 31.2500%, Best Val loss: 2.0080 Best Val acc: 31.25%\n",
            "Epoch 49/100, Train loss: 1.6713, Train acc: 39.0625%, Val loss: 1.9912, Val acc: 25.0000%, Best Val loss: 1.9912 Best Val acc: 31.25%\n",
            "Epoch 50/100, Train loss: 1.6826, Train acc: 37.5000%, Val loss: 1.9759, Val acc: 31.2500%, Best Val loss: 1.9759 Best Val acc: 31.25%\n",
            "Epoch 51/100, Train loss: 1.5944, Train acc: 45.3125%, Val loss: 1.9234, Val acc: 31.2500%, Best Val loss: 1.9234 Best Val acc: 31.25%\n",
            "Epoch 52/100, Train loss: 1.5052, Train acc: 62.5000%, Val loss: 1.8645, Val acc: 31.2500%, Best Val loss: 1.8645 Best Val acc: 31.25%\n",
            "Epoch 53/100, Train loss: 1.5286, Train acc: 50.0000%, Val loss: 1.8109, Val acc: 37.5000%, Best Val loss: 1.8109 Best Val acc: 37.50%\n",
            "Epoch 54/100, Train loss: 1.6334, Train acc: 54.6875%, Val loss: 1.7620, Val acc: 37.5000%, Best Val loss: 1.7620 Best Val acc: 37.50%\n",
            "Epoch 55/100, Train loss: 1.5054, Train acc: 54.6875%, Val loss: 1.7207, Val acc: 43.7500%, Best Val loss: 1.7207 Best Val acc: 43.75%\n",
            "Epoch 56/100, Train loss: 1.5308, Train acc: 53.1250%, Val loss: 1.6596, Val acc: 43.7500%, Best Val loss: 1.6596 Best Val acc: 43.75%\n",
            "Epoch 57/100, Train loss: 1.5308, Train acc: 50.0000%, Val loss: 1.6256, Val acc: 43.7500%, Best Val loss: 1.6256 Best Val acc: 43.75%\n",
            "Epoch 58/100, Train loss: 1.5138, Train acc: 50.0000%, Val loss: 1.5911, Val acc: 56.2500%, Best Val loss: 1.5911 Best Val acc: 56.25%\n",
            "Epoch 59/100, Train loss: 1.6446, Train acc: 48.4375%, Val loss: 1.6056, Val acc: 56.2500%, Best Val loss: 1.5911 Best Val acc: 56.25%\n",
            "Epoch 60/100, Train loss: 1.5277, Train acc: 51.5625%, Val loss: 1.6120, Val acc: 62.5000%, Best Val loss: 1.5911 Best Val acc: 62.50%\n",
            "Epoch 61/100, Train loss: 1.4986, Train acc: 54.6875%, Val loss: 1.6308, Val acc: 62.5000%, Best Val loss: 1.5911 Best Val acc: 62.50%\n",
            "Epoch 62/100, Train loss: 1.6002, Train acc: 50.0000%, Val loss: 1.6066, Val acc: 62.5000%, Best Val loss: 1.5911 Best Val acc: 62.50%\n",
            "Epoch 63/100, Train loss: 1.5233, Train acc: 50.0000%, Val loss: 1.5919, Val acc: 43.7500%, Best Val loss: 1.5911 Best Val acc: 62.50%\n",
            "Epoch 64/100, Train loss: 1.5298, Train acc: 48.4375%, Val loss: 1.5789, Val acc: 56.2500%, Best Val loss: 1.5789 Best Val acc: 62.50%\n",
            "Epoch 65/100, Train loss: 1.7155, Train acc: 50.0000%, Val loss: 1.5480, Val acc: 56.2500%, Best Val loss: 1.5480 Best Val acc: 62.50%\n",
            "Epoch 66/100, Train loss: 1.6470, Train acc: 45.3125%, Val loss: 1.5351, Val acc: 56.2500%, Best Val loss: 1.5351 Best Val acc: 62.50%\n",
            "Epoch 67/100, Train loss: 1.3842, Train acc: 68.7500%, Val loss: 1.5275, Val acc: 50.0000%, Best Val loss: 1.5275 Best Val acc: 62.50%\n",
            "Epoch 68/100, Train loss: 1.4406, Train acc: 54.6875%, Val loss: 1.5132, Val acc: 50.0000%, Best Val loss: 1.5132 Best Val acc: 62.50%\n",
            "Epoch 69/100, Train loss: 1.5145, Train acc: 53.1250%, Val loss: 1.5315, Val acc: 43.7500%, Best Val loss: 1.5132 Best Val acc: 62.50%\n",
            "Epoch 70/100, Train loss: 1.4836, Train acc: 51.5625%, Val loss: 1.5206, Val acc: 56.2500%, Best Val loss: 1.5132 Best Val acc: 62.50%\n",
            "Epoch 71/100, Train loss: 1.5521, Train acc: 51.5625%, Val loss: 1.5114, Val acc: 43.7500%, Best Val loss: 1.5114 Best Val acc: 62.50%\n",
            "Epoch 72/100, Train loss: 1.3387, Train acc: 59.3750%, Val loss: 1.5134, Val acc: 50.0000%, Best Val loss: 1.5114 Best Val acc: 62.50%\n",
            "Epoch 73/100, Train loss: 1.5021, Train acc: 50.0000%, Val loss: 1.5041, Val acc: 56.2500%, Best Val loss: 1.5041 Best Val acc: 62.50%\n",
            "Epoch 74/100, Train loss: 1.4907, Train acc: 53.1250%, Val loss: 1.4939, Val acc: 56.2500%, Best Val loss: 1.4939 Best Val acc: 62.50%\n",
            "Epoch 75/100, Train loss: 1.5650, Train acc: 53.1250%, Val loss: 1.4724, Val acc: 56.2500%, Best Val loss: 1.4724 Best Val acc: 62.50%\n",
            "Epoch 76/100, Train loss: 1.4184, Train acc: 50.0000%, Val loss: 1.4567, Val acc: 50.0000%, Best Val loss: 1.4567 Best Val acc: 62.50%\n",
            "Epoch 77/100, Train loss: 1.5690, Train acc: 50.0000%, Val loss: 1.4490, Val acc: 50.0000%, Best Val loss: 1.4490 Best Val acc: 62.50%\n",
            "Epoch 78/100, Train loss: 1.3954, Train acc: 62.5000%, Val loss: 1.4457, Val acc: 43.7500%, Best Val loss: 1.4457 Best Val acc: 62.50%\n",
            "Epoch 79/100, Train loss: 1.5284, Train acc: 51.5625%, Val loss: 1.4596, Val acc: 50.0000%, Best Val loss: 1.4457 Best Val acc: 62.50%\n",
            "Epoch 80/100, Train loss: 1.4730, Train acc: 54.6875%, Val loss: 1.4605, Val acc: 50.0000%, Best Val loss: 1.4457 Best Val acc: 62.50%\n",
            "Epoch 81/100, Train loss: 1.4963, Train acc: 48.4375%, Val loss: 1.4505, Val acc: 43.7500%, Best Val loss: 1.4457 Best Val acc: 62.50%\n",
            "Epoch 82/100, Train loss: 1.3965, Train acc: 64.0625%, Val loss: 1.4534, Val acc: 43.7500%, Best Val loss: 1.4457 Best Val acc: 62.50%\n",
            "Epoch 83/100, Train loss: 1.6797, Train acc: 50.0000%, Val loss: 1.4510, Val acc: 43.7500%, Best Val loss: 1.4457 Best Val acc: 62.50%\n",
            "Epoch 84/100, Train loss: 1.4276, Train acc: 64.0625%, Val loss: 1.4537, Val acc: 43.7500%, Best Val loss: 1.4457 Best Val acc: 62.50%\n",
            "Epoch 85/100, Train loss: 1.4931, Train acc: 50.0000%, Val loss: 1.4653, Val acc: 43.7500%, Best Val loss: 1.4457 Best Val acc: 62.50%\n",
            "Epoch 86/100, Train loss: 1.3769, Train acc: 56.2500%, Val loss: 1.4867, Val acc: 50.0000%, Best Val loss: 1.4457 Best Val acc: 62.50%\n",
            "Epoch 87/100, Train loss: 1.4792, Train acc: 54.6875%, Val loss: 1.4970, Val acc: 50.0000%, Best Val loss: 1.4457 Best Val acc: 62.50%\n",
            "Epoch 88/100, Train loss: 1.4410, Train acc: 51.5625%, Val loss: 1.4870, Val acc: 50.0000%, Best Val loss: 1.4457 Best Val acc: 62.50%\n",
            "Epoch 89/100, Train loss: 1.4411, Train acc: 59.3750%, Val loss: 1.4715, Val acc: 50.0000%, Best Val loss: 1.4457 Best Val acc: 62.50%\n",
            "Epoch 90/100, Train loss: 1.4536, Train acc: 51.5625%, Val loss: 1.4726, Val acc: 50.0000%, Best Val loss: 1.4457 Best Val acc: 62.50%\n",
            "Epoch 91/100, Train loss: 1.4587, Train acc: 51.5625%, Val loss: 1.4462, Val acc: 50.0000%, Best Val loss: 1.4457 Best Val acc: 62.50%\n",
            "Epoch 92/100, Train loss: 1.3486, Train acc: 67.1875%, Val loss: 1.4466, Val acc: 43.7500%, Best Val loss: 1.4457 Best Val acc: 62.50%\n",
            "Epoch 93/100, Train loss: 1.4159, Train acc: 56.2500%, Val loss: 1.4392, Val acc: 43.7500%, Best Val loss: 1.4392 Best Val acc: 62.50%\n",
            "Epoch 94/100, Train loss: 1.3762, Train acc: 53.1250%, Val loss: 1.4413, Val acc: 43.7500%, Best Val loss: 1.4392 Best Val acc: 62.50%\n",
            "Epoch 95/100, Train loss: 1.4053, Train acc: 59.3750%, Val loss: 1.4358, Val acc: 43.7500%, Best Val loss: 1.4358 Best Val acc: 62.50%\n",
            "Epoch 96/100, Train loss: 1.5423, Train acc: 51.5625%, Val loss: 1.4443, Val acc: 50.0000%, Best Val loss: 1.4358 Best Val acc: 62.50%\n",
            "Epoch 97/100, Train loss: 1.4755, Train acc: 54.6875%, Val loss: 1.4383, Val acc: 50.0000%, Best Val loss: 1.4358 Best Val acc: 62.50%\n",
            "Epoch 98/100, Train loss: 1.5240, Train acc: 48.4375%, Val loss: 1.4345, Val acc: 50.0000%, Best Val loss: 1.4345 Best Val acc: 62.50%\n",
            "Epoch 99/100, Train loss: 1.3859, Train acc: 53.1250%, Val loss: 1.4394, Val acc: 50.0000%, Best Val loss: 1.4345 Best Val acc: 62.50%\n",
            "Epoch 100/100, Train loss: 1.3722, Train acc: 53.1250%, Val loss: 1.4499, Val acc: 43.7500%, Best Val loss: 1.4345 Best Val acc: 62.50%\n"
          ]
        }
      ],
      "source": [
        "import torch.optim as optim\n",
        "from torch.optim.lr_scheduler import CosineAnnealingLR, StepLR\n",
        "from tqdm.auto import tqdm\n",
        "\n",
        "train_losses = []\n",
        "val_losses = []\n",
        "train_accuracies = []\n",
        "val_accuracies = []\n",
        "\n",
        "epochs = 100\n",
        "model = model.cuda()\n",
        "\n",
        "best_val_loss = float('inf')\n",
        "best_val_acc = -1\n",
        "\n",
        "criterion = nn.CrossEntropyLoss()\n",
        "# optimizer = optim.SGD(model.parameters(), lr=0.01, momentum=0.9)\n",
        "optimizer = optim.Adam(model.parameters(), lr=1e-3)\n",
        "lr_scheduler = CosineAnnealingLR(optimizer, T_max=len(train_loader)*epochs, eta_min=0)\n",
        "\n",
        "for epoch in tqdm(range(epochs)):\n",
        "    # Training\n",
        "    model.train()\n",
        "    total_loss = 0.0\n",
        "    train_correct = 0\n",
        "    total_train_samples = 0\n",
        "\n",
        "    for images, labels in train_loader:\n",
        "        images = images.cuda()\n",
        "        images = (images) / 255.\n",
        "        labels = labels.cuda()\n",
        "        optimizer.zero_grad()\n",
        "        outputs = model(images)\n",
        "\n",
        "        labels = labels.long()\n",
        "\n",
        "        loss = criterion(outputs, labels)\n",
        "        loss.backward()\n",
        "        optimizer.step()\n",
        "        total_loss += loss.item()\n",
        "\n",
        "        train_predicted = outputs.argmax(-1)\n",
        "        train_correct += (train_predicted == labels).sum().item()\n",
        "        total_train_samples += labels.size(0)\n",
        "\n",
        "    avg_train_loss = total_loss / len(train_loader)\n",
        "    train_accuracy = 100. * train_correct / total_train_samples\n",
        "\n",
        "    # Validation\n",
        "    model.eval()\n",
        "    total_val_loss = 0.0\n",
        "    correct = 0\n",
        "    total = 0\n",
        "    with torch.no_grad():\n",
        "        for images, labels in val_loader:\n",
        "            images = images.cuda()\n",
        "            images = (images) / 255.\n",
        "            labels = labels.cuda()\n",
        "            outputs = model(images)\n",
        "\n",
        "            labels = labels.long()\n",
        "\n",
        "            loss = criterion(outputs, labels)\n",
        "            total_val_loss += loss.item()\n",
        "\n",
        "            predicted = outputs.argmax(-1)\n",
        "            correct += (predicted == labels).sum().item()\n",
        "            total += labels.size(0)\n",
        "\n",
        "    avg_val_loss = total_val_loss / len(val_loader)\n",
        "    val_accuracy = 100. * correct / total\n",
        "\n",
        "    # Learning rate update\n",
        "    lr_scheduler.step()\n",
        "\n",
        "    # Checkpoint\n",
        "    if avg_val_loss < best_val_loss:\n",
        "        best_val_loss = avg_val_loss\n",
        "\n",
        "    if val_accuracy > best_val_acc:\n",
        "        best_val_acc = val_accuracy\n",
        "        torch.save(model.state_dict(), 'model_classification.pth')\n",
        "\n",
        "    print(f'Epoch {epoch+1}/{epochs}, Train loss: {avg_train_loss:.4f}, Train acc: {train_accuracy:.4f}%, Val loss: {avg_val_loss:.4f}, Val acc: {val_accuracy:.4f}%, Best Val loss: {best_val_loss:.4f} Best Val acc: {best_val_acc:.2f}%')\n",
        "\n",
        "    # Store performance\n",
        "    train_losses.append(avg_train_loss)\n",
        "    train_accuracies.append(train_accuracy)\n",
        "    val_losses.append(avg_val_loss)\n",
        "    val_accuracies.append(val_accuracy)"
      ]
    },
    {
      "cell_type": "markdown",
      "metadata": {
        "id": "pjmYxAJnxc6t"
      },
      "source": [
        "### Visualizing model performance"
      ]
    },
    {
      "cell_type": "code",
      "execution_count": 12,
      "metadata": {
        "id": "pHpS0Q7vxc6t",
        "colab": {
          "base_uri": "https://localhost:8080/",
          "height": 487
        },
        "outputId": "0a73fab1-70b6-4002-c67f-0d26d0124998"
      },
      "outputs": [
        {
          "output_type": "display_data",
          "data": {
            "text/plain": [
              "<Figure size 1500x500 with 2 Axes>"
            ],
            "image/png": "[encoded data removed]"
          },
          "metadata": {}
        }
      ],
      "source": [
        "import matplotlib.pyplot as plt\n",
        "\n",
        "fig, ax = plt.subplots(1, 2, figsize=(15, 5))\n",
        "\n",
        "# Plotting training and validation accuracy\n",
        "ax[0].plot(train_accuracies)\n",
        "ax[0].plot(val_accuracies)\n",
        "ax[0].set_title('Model Accuracy')\n",
        "ax[0].set_xlabel('Epochs')\n",
        "ax[0].set_ylabel('Accuracy')\n",
        "ax[0].legend(['Train', 'Val'])\n",
        "\n",
        "# Plotting training and validation loss\n",
        "ax[1].plot(train_losses)\n",
        "ax[1].plot(val_losses)\n",
        "ax[1].set_title('Model Loss')\n",
        "ax[1].set_xlabel('Epochs')\n",
        "ax[1].set_ylabel('Loss')\n",
        "ax[1].legend(['Train', 'Val'])\n",
        "\n",
        "plt.show()"
      ]
    },
    {
      "cell_type": "markdown",
      "metadata": {
        "id": "WVDWBwv6Cu8V"
      },
      "source": [
        "## D. Evaluating Your Trained Model"
      ]
    },
    {
      "cell_type": "markdown",
      "metadata": {
        "id": "uEztHBDjCu8V"
      },
      "source": [
        "### Load Trained Model and Evaluate"
      ]
    },
    {
      "cell_type": "code",
      "execution_count": 13,
      "metadata": {
        "id": "2DA1qHXpCu8V",
        "colab": {
          "base_uri": "https://localhost:8080/"
        },
        "outputId": "1db51735-e7b1-4cc7-ac0f-d34fa9cf383f"
      },
      "outputs": [
        {
          "output_type": "stream",
          "name": "stdout",
          "text": [
            "tensor([7, 6, 1, 1, 2, 2, 7, 1, 4, 4, 5, 0, 1, 6, 7, 7], device='cuda:0')\n",
            "tensor([0, 0, 1, 1, 2, 2, 3, 3, 4, 4, 5, 5, 6, 6, 7, 7], device='cuda:0')\n",
            "Test accuracy is 62.5%\n"
          ]
        }
      ],
      "source": [
        "# Load the trained weights\n",
        "model.load_state_dict(torch.load('model_classification.pth'))\n",
        "\n",
        "# Set the model to evaluation mode\n",
        "model.eval()\n",
        "\n",
        "test_correct = 0\n",
        "test_total = 0\n",
        "\n",
        "with torch.no_grad():\n",
        "    for images, labels in val_loader:\n",
        "\n",
        "        images = images.cuda()\n",
        "        images = (images) / 255.\n",
        "\n",
        "        labels = labels.cuda()\n",
        "        labels = labels.long()\n",
        "\n",
        "        outputs = model(images)\n",
        "\n",
        "        predicted = outputs.argmax(-1)\n",
        "        print(predicted)\n",
        "        print(labels)\n",
        "        test_correct += (predicted == labels).sum().item()\n",
        "        test_total += labels.size(0)\n",
        "\n",
        "print(f'Test accuracy is {100. * test_correct / test_total}%')"
      ]
    }
  ],
  "metadata": {
    "accelerator": "GPU",
    "colab": {
      "gpuType": "T4",
      "provenance": [],
      "toc_visible": true
    },
    "kernelspec": {
      "display_name": "Python 3 (ipykernel)",
      "language": "python",
      "name": "python3"
    },
    "language_info": {
      "codemirror_mode": {
        "name": "ipython",
        "version": 3
      },
      "file_extension": ".py",
      "mimetype": "text/x-python",
      "name": "python",
      "nbconvert_exporter": "python",
      "pygments_lexer": "ipython3",
      "version": "3.8.13"
    },
    "widgets": {
      "application/vnd.jupyter.widget-state+json": {
        "ce2ccea803a648a7ae028eafada31bd4": {
          "model_module": "@jupyter-widgets/controls",
          "model_name": "HBoxModel",
          "model_module_version": "1.5.0",
          "state": {
            "_dom_classes": [],
            "_model_module": "@jupyter-widgets/controls",
            "_model_module_version": "1.5.0",
            "_model_name": "HBoxModel",
            "_view_count": null,
            "_view_module": "@jupyter-widgets/controls",
            "_view_module_version": "1.5.0",
            "_view_name": "HBoxView",
            "box_style": "",
            "children": [
              "IPY_MODEL_9d2b0e7bfa3b46cba1338fe34458d080",
              "IPY_MODEL_03a1502ad21b45bc8f41f31ad597d12f",
              "IPY_MODEL_8fb7ffef9f5e4c23ab93b14856f21395"
            ],
            "layout": "IPY_MODEL_b4342513fbd1423cbbca955e5c0fbea4"
          }
        },
        "9d2b0e7bfa3b46cba1338fe34458d080": {
          "model_module": "@jupyter-widgets/controls",
          "model_name": "HTMLModel",
          "model_module_version": "1.5.0",
          "state": {
            "_dom_classes": [],
            "_model_module": "@jupyter-widgets/controls",
            "_model_module_version": "1.5.0",
            "_model_name": "HTMLModel",
            "_view_count": null,
            "_view_module": "@jupyter-widgets/controls",
            "_view_module_version": "1.5.0",
            "_view_name": "HTMLView",
            "description": "",
            "description_tooltip": null,
            "layout": "IPY_MODEL_68469a732e3b47c9b2f6bac67550185f",
            "placeholder": "​",
            "style": "IPY_MODEL_5f6a3877484b4e179717f43a9e7be722",
            "value": "100%"
          }
        },
        "03a1502ad21b45bc8f41f31ad597d12f": {
          "model_module": "@jupyter-widgets/controls",
          "model_name": "FloatProgressModel",
          "model_module_version": "1.5.0",
          "state": {
            "_dom_classes": [],
            "_model_module": "@jupyter-widgets/controls",
            "_model_module_version": "1.5.0",
            "_model_name": "FloatProgressModel",
            "_view_count": null,
            "_view_module": "@jupyter-widgets/controls",
            "_view_module_version": "1.5.0",
            "_view_name": "ProgressView",
            "bar_style": "success",
            "description": "",
            "description_tooltip": null,
            "layout": "IPY_MODEL_049e167d3b7544388803cdb10772ccbe",
            "max": 90,
            "min": 0,
            "orientation": "horizontal",
            "style": "IPY_MODEL_2da9708be65d40c1bd6bcf18ff9b6918",
            "value": 90
          }
        },
        "8fb7ffef9f5e4c23ab93b14856f21395": {
          "model_module": "@jupyter-widgets/controls",
          "model_name": "HTMLModel",
          "model_module_version": "1.5.0",
          "state": {
            "_dom_classes": [],
            "_model_module": "@jupyter-widgets/controls",
            "_model_module_version": "1.5.0",
            "_model_name": "HTMLModel",
            "_view_count": null,
            "_view_module": "@jupyter-widgets/controls",
            "_view_module_version": "1.5.0",
            "_view_name": "HTMLView",
            "description": "",
            "description_tooltip": null,
            "layout": "IPY_MODEL_31187468e26748099ab1ea67e054e8bb",
            "placeholder": "​",
            "style": "IPY_MODEL_5db90a2f261d41fcb5dc880d1bd54978",
            "value": " 90/90 [01:44&lt;00:00,  1.82it/s]"
          }
        },
        "b4342513fbd1423cbbca955e5c0fbea4": {
          "model_module": "@jupyter-widgets/base",
          "model_name": "LayoutModel",
          "model_module_version": "1.2.0",
          "state": {
            "_model_module": "@jupyter-widgets/base",
            "_model_module_version": "1.2.0",
            "_model_name": "LayoutModel",
            "_view_count": null,
            "_view_module": "@jupyter-widgets/base",
            "_view_module_version": "1.2.0",
            "_view_name": "LayoutView",
            "align_content": null,
            "align_items": null,
            "align_self": null,
            "border": null,
            "bottom": null,
            "display": null,
            "flex": null,
            "flex_flow": null,
            "grid_area": null,
            "grid_auto_columns": null,
            "grid_auto_flow": null,
            "grid_auto_rows": null,
            "grid_column": null,
            "grid_gap": null,
            "grid_row": null,
            "grid_template_areas": null,
            "grid_template_columns": null,
            "grid_template_rows": null,
            "height": null,
            "justify_content": null,
            "justify_items": null,
            "left": null,
            "margin": null,
            "max_height": null,
            "max_width": null,
            "min_height": null,
            "min_width": null,
            "object_fit": null,
            "object_position": null,
            "order": null,
            "overflow": null,
            "overflow_x": null,
            "overflow_y": null,
            "padding": null,
            "right": null,
            "top": null,
            "visibility": null,
            "width": null
          }
        },
        "68469a732e3b47c9b2f6bac67550185f": {
          "model_module": "@jupyter-widgets/base",
          "model_name": "LayoutModel",
          "model_module_version": "1.2.0",
          "state": {
            "_model_module": "@jupyter-widgets/base",
            "_model_module_version": "1.2.0",
            "_model_name": "LayoutModel",
            "_view_count": null,
            "_view_module": "@jupyter-widgets/base",
            "_view_module_version": "1.2.0",
            "_view_name": "LayoutView",
            "align_content": null,
            "align_items": null,
            "align_self": null,
            "border": null,
            "bottom": null,
            "display": null,
            "flex": null,
            "flex_flow": null,
            "grid_area": null,
            "grid_auto_columns": null,
            "grid_auto_flow": null,
            "grid_auto_rows": null,
            "grid_column": null,
            "grid_gap": null,
            "grid_row": null,
            "grid_template_areas": null,
            "grid_template_columns": null,
            "grid_template_rows": null,
            "height": null,
            "justify_content": null,
            "justify_items": null,
            "left": null,
            "margin": null,
            "max_height": null,
            "max_width": null,
            "min_height": null,
            "min_width": null,
            "object_fit": null,
            "object_position": null,
            "order": null,
            "overflow": null,
            "overflow_x": null,
            "overflow_y": null,
            "padding": null,
            "right": null,
            "top": null,
            "visibility": null,
            "width": null
          }
        },
        "5f6a3877484b4e179717f43a9e7be722": {
          "model_module": "@jupyter-widgets/controls",
          "model_name": "DescriptionStyleModel",
          "model_module_version": "1.5.0",
          "state": {
            "_model_module": "@jupyter-widgets/controls",
            "_model_module_version": "1.5.0",
            "_model_name": "DescriptionStyleModel",
            "_view_count": null,
            "_view_module": "@jupyter-widgets/base",
            "_view_module_version": "1.2.0",
            "_view_name": "StyleView",
            "description_width": ""
          }
        },
        "049e167d3b7544388803cdb10772ccbe": {
          "model_module": "@jupyter-widgets/base",
          "model_name": "LayoutModel",
          "model_module_version": "1.2.0",
          "state": {
            "_model_module": "@jupyter-widgets/base",
            "_model_module_version": "1.2.0",
            "_model_name": "LayoutModel",
            "_view_count": null,
            "_view_module": "@jupyter-widgets/base",
            "_view_module_version": "1.2.0",
            "_view_name": "LayoutView",
            "align_content": null,
            "align_items": null,
            "align_self": null,
            "border": null,
            "bottom": null,
            "display": null,
            "flex": null,
            "flex_flow": null,
            "grid_area": null,
            "grid_auto_columns": null,
            "grid_auto_flow": null,
            "grid_auto_rows": null,
            "grid_column": null,
            "grid_gap": null,
            "grid_row": null,
            "grid_template_areas": null,
            "grid_template_columns": null,
            "grid_template_rows": null,
            "height": null,
            "justify_content": null,
            "justify_items": null,
            "left": null,
            "margin": null,
            "max_height": null,
            "max_width": null,
            "min_height": null,
            "min_width": null,
            "object_fit": null,
            "object_position": null,
            "order": null,
            "overflow": null,
            "overflow_x": null,
            "overflow_y": null,
            "padding": null,
            "right": null,
            "top": null,
            "visibility": null,
            "width": null
          }
        },
        "2da9708be65d40c1bd6bcf18ff9b6918": {
          "model_module": "@jupyter-widgets/controls",
          "model_name": "ProgressStyleModel",
          "model_module_version": "1.5.0",
          "state": {
            "_model_module": "@jupyter-widgets/controls",
            "_model_module_version": "1.5.0",
            "_model_name": "ProgressStyleModel",
            "_view_count": null,
            "_view_module": "@jupyter-widgets/base",
            "_view_module_version": "1.2.0",
            "_view_name": "StyleView",
            "bar_color": null,
            "description_width": ""
          }
        },
        "31187468e26748099ab1ea67e054e8bb": {
          "model_module": "@jupyter-widgets/base",
          "model_name": "LayoutModel",
          "model_module_version": "1.2.0",
          "state": {
            "_model_module": "@jupyter-widgets/base",
            "_model_module_version": "1.2.0",
            "_model_name": "LayoutModel",
            "_view_count": null,
            "_view_module": "@jupyter-widgets/base",
            "_view_module_version": "1.2.0",
            "_view_name": "LayoutView",
            "align_content": null,
            "align_items": null,
            "align_self": null,
            "border": null,
            "bottom": null,
            "display": null,
            "flex": null,
            "flex_flow": null,
            "grid_area": null,
            "grid_auto_columns": null,
            "grid_auto_flow": null,
            "grid_auto_rows": null,
            "grid_column": null,
            "grid_gap": null,
            "grid_row": null,
            "grid_template_areas": null,
            "grid_template_columns": null,
            "grid_template_rows": null,
            "height": null,
            "justify_content": null,
            "justify_items": null,
            "left": null,
            "margin": null,
            "max_height": null,
            "max_width": null,
            "min_height": null,
            "min_width": null,
            "object_fit": null,
            "object_position": null,
            "order": null,
            "overflow": null,
            "overflow_x": null,
            "overflow_y": null,
            "padding": null,
            "right": null,
            "top": null,
            "visibility": null,
            "width": null
          }
        },
        "5db90a2f261d41fcb5dc880d1bd54978": {
          "model_module": "@jupyter-widgets/controls",
          "model_name": "DescriptionStyleModel",
          "model_module_version": "1.5.0",
          "state": {
            "_model_module": "@jupyter-widgets/controls",
            "_model_module_version": "1.5.0",
            "_model_name": "DescriptionStyleModel",
            "_view_count": null,
            "_view_module": "@jupyter-widgets/base",
            "_view_module_version": "1.2.0",
            "_view_name": "StyleView",
            "description_width": ""
          }
        },
        "6e5265f677e949218afcbe69587d1e0a": {
          "model_module": "@jupyter-widgets/controls",
          "model_name": "HBoxModel",
          "model_module_version": "1.5.0",
          "state": {
            "_dom_classes": [],
            "_model_module": "@jupyter-widgets/controls",
            "_model_module_version": "1.5.0",
            "_model_name": "HBoxModel",
            "_view_count": null,
            "_view_module": "@jupyter-widgets/controls",
            "_view_module_version": "1.5.0",
            "_view_name": "HBoxView",
            "box_style": "",
            "children": [
              "IPY_MODEL_1e16380047e249e9ae6b79f15a665b4d",
              "IPY_MODEL_e2cfc73e3e4240bc95ee6ecd6e65f0ce",
              "IPY_MODEL_1a64ccce9a044c778bc3f0f54d0f3422"
            ],
            "layout": "IPY_MODEL_559994b9d2db4d45a8630f75d44771ae"
          }
        },
        "1e16380047e249e9ae6b79f15a665b4d": {
          "model_module": "@jupyter-widgets/controls",
          "model_name": "HTMLModel",
          "model_module_version": "1.5.0",
          "state": {
            "_dom_classes": [],
            "_model_module": "@jupyter-widgets/controls",
            "_model_module_version": "1.5.0",
            "_model_name": "HTMLModel",
            "_view_count": null,
            "_view_module": "@jupyter-widgets/controls",
            "_view_module_version": "1.5.0",
            "_view_name": "HTMLView",
            "description": "",
            "description_tooltip": null,
            "layout": "IPY_MODEL_8610eb7a39064f21857f004c91003b5f",
            "placeholder": "​",
            "style": "IPY_MODEL_494b64b3d5cd40c4b65e429b84cca172",
            "value": "100%"
          }
        },
        "e2cfc73e3e4240bc95ee6ecd6e65f0ce": {
          "model_module": "@jupyter-widgets/controls",
          "model_name": "FloatProgressModel",
          "model_module_version": "1.5.0",
          "state": {
            "_dom_classes": [],
            "_model_module": "@jupyter-widgets/controls",
            "_model_module_version": "1.5.0",
            "_model_name": "FloatProgressModel",
            "_view_count": null,
            "_view_module": "@jupyter-widgets/controls",
            "_view_module_version": "1.5.0",
            "_view_name": "ProgressView",
            "bar_style": "success",
            "description": "",
            "description_tooltip": null,
            "layout": "IPY_MODEL_489157e731014cf1a983a52aa7903d97",
            "max": 100,
            "min": 0,
            "orientation": "horizontal",
            "style": "IPY_MODEL_3753754c39e64b43a89bb5207660da7b",
            "value": 100
          }
        },
        "1a64ccce9a044c778bc3f0f54d0f3422": {
          "model_module": "@jupyter-widgets/controls",
          "model_name": "HTMLModel",
          "model_module_version": "1.5.0",
          "state": {
            "_dom_classes": [],
            "_model_module": "@jupyter-widgets/controls",
            "_model_module_version": "1.5.0",
            "_model_name": "HTMLModel",
            "_view_count": null,
            "_view_module": "@jupyter-widgets/controls",
            "_view_module_version": "1.5.0",
            "_view_name": "HTMLView",
            "description": "",
            "description_tooltip": null,
            "layout": "IPY_MODEL_a541519983b34c1a9e17165fe9926482",
            "placeholder": "​",
            "style": "IPY_MODEL_f4e239f3b94c4e1b97cbeacee2a4845a",
            "value": " 100/100 [01:01&lt;00:00,  1.86it/s]"
          }
        },
        "559994b9d2db4d45a8630f75d44771ae": {
          "model_module": "@jupyter-widgets/base",
          "model_name": "LayoutModel",
          "model_module_version": "1.2.0",
          "state": {
            "_model_module": "@jupyter-widgets/base",
            "_model_module_version": "1.2.0",
            "_model_name": "LayoutModel",
            "_view_count": null,
            "_view_module": "@jupyter-widgets/base",
            "_view_module_version": "1.2.0",
            "_view_name": "LayoutView",
            "align_content": null,
            "align_items": null,
            "align_self": null,
            "border": null,
            "bottom": null,
            "display": null,
            "flex": null,
            "flex_flow": null,
            "grid_area": null,
            "grid_auto_columns": null,
            "grid_auto_flow": null,
            "grid_auto_rows": null,
            "grid_column": null,
            "grid_gap": null,
            "grid_row": null,
            "grid_template_areas": null,
            "grid_template_columns": null,
            "grid_template_rows": null,
            "height": null,
            "justify_content": null,
            "justify_items": null,
            "left": null,
            "margin": null,
            "max_height": null,
            "max_width": null,
            "min_height": null,
            "min_width": null,
            "object_fit": null,
            "object_position": null,
            "order": null,
            "overflow": null,
            "overflow_x": null,
            "overflow_y": null,
            "padding": null,
            "right": null,
            "top": null,
            "visibility": null,
            "width": null
          }
        },
        "8610eb7a39064f21857f004c91003b5f": {
          "model_module": "@jupyter-widgets/base",
          "model_name": "LayoutModel",
          "model_module_version": "1.2.0",
          "state": {
            "_model_module": "@jupyter-widgets/base",
            "_model_module_version": "1.2.0",
            "_model_name": "LayoutModel",
            "_view_count": null,
            "_view_module": "@jupyter-widgets/base",
            "_view_module_version": "1.2.0",
            "_view_name": "LayoutView",
            "align_content": null,
            "align_items": null,
            "align_self": null,
            "border": null,
            "bottom": null,
            "display": null,
            "flex": null,
            "flex_flow": null,
            "grid_area": null,
            "grid_auto_columns": null,
            "grid_auto_flow": null,
            "grid_auto_rows": null,
            "grid_column": null,
            "grid_gap": null,
            "grid_row": null,
            "grid_template_areas": null,
            "grid_template_columns": null,
            "grid_template_rows": null,
            "height": null,
            "justify_content": null,
            "justify_items": null,
            "left": null,
            "margin": null,
            "max_height": null,
            "max_width": null,
            "min_height": null,
            "min_width": null,
            "object_fit": null,
            "object_position": null,
            "order": null,
            "overflow": null,
            "overflow_x": null,
            "overflow_y": null,
            "padding": null,
            "right": null,
            "top": null,
            "visibility": null,
            "width": null
          }
        },
        "494b64b3d5cd40c4b65e429b84cca172": {
          "model_module": "@jupyter-widgets/controls",
          "model_name": "DescriptionStyleModel",
          "model_module_version": "1.5.0",
          "state": {
            "_model_module": "@jupyter-widgets/controls",
            "_model_module_version": "1.5.0",
            "_model_name": "DescriptionStyleModel",
            "_view_count": null,
            "_view_module": "@jupyter-widgets/base",
            "_view_module_version": "1.2.0",
            "_view_name": "StyleView",
            "description_width": ""
          }
        },
        "489157e731014cf1a983a52aa7903d97": {
          "model_module": "@jupyter-widgets/base",
          "model_name": "LayoutModel",
          "model_module_version": "1.2.0",
          "state": {
            "_model_module": "@jupyter-widgets/base",
            "_model_module_version": "1.2.0",
            "_model_name": "LayoutModel",
            "_view_count": null,
            "_view_module": "@jupyter-widgets/base",
            "_view_module_version": "1.2.0",
            "_view_name": "LayoutView",
            "align_content": null,
            "align_items": null,
            "align_self": null,
            "border": null,
            "bottom": null,
            "display": null,
            "flex": null,
            "flex_flow": null,
            "grid_area": null,
            "grid_auto_columns": null,
            "grid_auto_flow": null,
            "grid_auto_rows": null,
            "grid_column": null,
            "grid_gap": null,
            "grid_row": null,
            "grid_template_areas": null,
            "grid_template_columns": null,
            "grid_template_rows": null,
            "height": null,
            "justify_content": null,
            "justify_items": null,
            "left": null,
            "margin": null,
            "max_height": null,
            "max_width": null,
            "min_height": null,
            "min_width": null,
            "object_fit": null,
            "object_position": null,
            "order": null,
            "overflow": null,
            "overflow_x": null,
            "overflow_y": null,
            "padding": null,
            "right": null,
            "top": null,
            "visibility": null,
            "width": null
          }
        },
        "3753754c39e64b43a89bb5207660da7b": {
          "model_module": "@jupyter-widgets/controls",
          "model_name": "ProgressStyleModel",
          "model_module_version": "1.5.0",
          "state": {
            "_model_module": "@jupyter-widgets/controls",
            "_model_module_version": "1.5.0",
            "_model_name": "ProgressStyleModel",
            "_view_count": null,
            "_view_module": "@jupyter-widgets/base",
            "_view_module_version": "1.2.0",
            "_view_name": "StyleView",
            "bar_color": null,
            "description_width": ""
          }
        },
        "a541519983b34c1a9e17165fe9926482": {
          "model_module": "@jupyter-widgets/base",
          "model_name": "LayoutModel",
          "model_module_version": "1.2.0",
          "state": {
            "_model_module": "@jupyter-widgets/base",
            "_model_module_version": "1.2.0",
            "_model_name": "LayoutModel",
            "_view_count": null,
            "_view_module": "@jupyter-widgets/base",
            "_view_module_version": "1.2.0",
            "_view_name": "LayoutView",
            "align_content": null,
            "align_items": null,
            "align_self": null,
            "border": null,
            "bottom": null,
            "display": null,
            "flex": null,
            "flex_flow": null,
            "grid_area": null,
            "grid_auto_columns": null,
            "grid_auto_flow": null,
            "grid_auto_rows": null,
            "grid_column": null,
            "grid_gap": null,
            "grid_row": null,
            "grid_template_areas": null,
            "grid_template_columns": null,
            "grid_template_rows": null,
            "height": null,
            "justify_content": null,
            "justify_items": null,
            "left": null,
            "margin": null,
            "max_height": null,
            "max_width": null,
            "min_height": null,
            "min_width": null,
            "object_fit": null,
            "object_position": null,
            "order": null,
            "overflow": null,
            "overflow_x": null,
            "overflow_y": null,
            "padding": null,
            "right": null,
            "top": null,
            "visibility": null,
            "width": null
          }
        },
        "f4e239f3b94c4e1b97cbeacee2a4845a": {
          "model_module": "@jupyter-widgets/controls",
          "model_name": "DescriptionStyleModel",
          "model_module_version": "1.5.0",
          "state": {
            "_model_module": "@jupyter-widgets/controls",
            "_model_module_version": "1.5.0",
            "_model_name": "DescriptionStyleModel",
            "_view_count": null,
            "_view_module": "@jupyter-widgets/base",
            "_view_module_version": "1.2.0",
            "_view_name": "StyleView",
            "description_width": ""
          }
        }
      }
    }
  },
  "nbformat": 4,
  "nbformat_minor": 0
}