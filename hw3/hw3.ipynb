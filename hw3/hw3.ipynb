{
  "cells": [
    {
      "cell_type": "markdown",
      "metadata": {
        "id": "Li0bVCTuxc6n"
      },
      "source": [
        "<div align=\"center\">\n",
        "\n",
        "#### Lab 3\n",
        "\n",
        "# National Tsing Hua University\n",
        "\n",
        "#### Spring 2024\n",
        "\n",
        "#### 11220IEEM 513600\n",
        "\n",
        "#### Deep Learning and Industrial Applications\n",
        "    \n",
        "## Lab 3: Anomaly Detection in Industrial Applications\n",
        "\n",
        "</div>"
      ]
    },
    {
      "cell_type": "markdown",
      "metadata": {
        "id": "OlvflhYwCu8Q"
      },
      "source": [
        "### Introduction\n",
        "\n",
        "In today's industrial landscape, the ability to detect anomalies in manufacturing processes and products is critical for maintaining quality, efficiency, and safety. This lab focuses on leveraging deep learning techniques for anomaly detection in various industrial applications, using the MVTEC Anomaly Detection Dataset. By employing ImageNet-pretrained models available in torchvision, students will gain hands-on experience in classfying defects and irregularities across different types of industrial products.\n",
        "\n",
        "Throughout this lab, you'll be involved in the following key activities:\n",
        "- Explore and process the MVTec Anomaly Detection Dataset.\n",
        "- Apply ImageNet-pretrained models from [Torchvision](https://pytorch.org/vision/stable/models.html) to detect anomalies in industrial products.\n",
        "- Evaluate the performance of the models to understand their effectiveness in real-world industrial applications.\n",
        "\n",
        "### Objectives\n",
        "\n",
        "- Understand the principles of anomaly detection in the context of industrial applications.\n",
        "- Learn how to implement and utilize ImageNet-pretrained models for detecting anomalies.\n",
        "- Analyze and interpret the results of the anomaly detection models to assess their practicality in industrial settings.\n",
        "\n",
        "### Dataset\n",
        "\n",
        "The MVTec AD Dataset is a comprehensive collection of high-resolution images across different categories of industrial products, such as bottles, cables, and metal nuts, each with various types of defects. This dataset is pivotal for developing and benchmarking anomaly detection algorithms. You can download our lab's dataset [here](https://drive.google.com/file/d/19600hUOpx0hl78TdpdH0oyy-gGTk_F_o/view?usp=share_link). You can drop downloaded data and drop to colab, or you can put into yor google drive.\n",
        "\n",
        "### References\n",
        "- [MVTec AD Dataset](https://www.kaggle.com/datasets/ipythonx/mvtec-ad/data) for the dataset used in this lab.\n",
        "- [Torchvision Models](https://pytorch.org/vision/stable/models.html) for accessing ImageNet-pretrained models to be used in anomaly detection tasks.\n",
        "- [State-of-the-Art Anomaly Detection on MVTec AD](https://paperswithcode.com/sota/anomaly-detection-on-mvtec-ad) for insights into the latest benchmarks and methodologies in anomaly detection applied to the MVTec AD dataset.\n",
        "- [CVPR 2019: MVTec AD — A Comprehensive Real-World Dataset for Unsupervised Anomaly Detection] for the original paper of MVTec AD dataset."
      ]
    },
    {
      "cell_type": "code",
      "execution_count": null,
      "metadata": {
        "id": "GuiEw1L0Cu8Q"
      },
      "outputs": [],
      "source": [
        "import glob\n",
        "import matplotlib.pyplot as plt\n",
        "import random\n",
        "from tqdm.auto import tqdm\n",
        "import cv2\n",
        "import numpy as np"
      ]
    },
    {
      "cell_type": "code",
      "execution_count": null,
      "metadata": {
        "id": "qvLTTCGsCu8R",
        "colab": {
          "base_uri": "https://localhost:8080/"
        },
        "outputId": "15a29bc7-2426-443f-bd51-b69623aa1e4f"
      },
      "outputs": [
        {
          "output_type": "stream",
          "name": "stdout",
          "text": [
            "Drive already mounted at /content/drive; to attempt to forcibly remount, call drive.mount(\"/content/drive\", force_remount=True).\n"
          ]
        }
      ],
      "source": [
        "from google.colab import drive\n",
        "\n",
        "drive.mount('/content/drive')\n",
        "# !tar -xvf drive/MyDrive/zipper.zip zipper"
      ]
    },
    {
      "cell_type": "code",
      "source": [
        "# import zipfile\n",
        "\n",
        "# # 指定壓縮檔案的路徑\n",
        "# zip_file_path = '/content/drive/MyDrive/Colab Notebooks/zipper.zip'\n",
        "\n",
        "# # 指定解壓縮後的目標路徑\n",
        "# extract_to_path = '/content/drive/MyDrive/Colab Notebooks/zipper_0'\n",
        "\n",
        "# # 解壓縮檔案\n",
        "# with zipfile.ZipFile(zip_file_path, 'r') as zip_ref:\n",
        "#     zip_ref.extractall(extract_to_path)\n",
        "\n",
        "# print(\"解壓縮完成\")\n"
      ],
      "metadata": {
        "id": "6WQ3z6fjv6oo"
      },
      "execution_count": null,
      "outputs": []
    },
    {
      "cell_type": "code",
      "execution_count": null,
      "metadata": {
        "id": "yXfjTWKUCu8R"
      },
      "outputs": [],
      "source": [
        "file_paths = glob.glob('/content/drive/MyDrive/Colab Notebooks/zipper/*/*/*.png')\n",
        "file_paths = sorted([path for path in file_paths if path.split('/')[-1] in [f'{i:03}.png' for i in range(10)]])"
      ]
    },
    {
      "cell_type": "code",
      "source": [
        "\n"
      ],
      "metadata": {
        "id": "rE3ZZjtjx_BF"
      },
      "execution_count": null,
      "outputs": []
    },
    {
      "cell_type": "code",
      "execution_count": null,
      "metadata": {
        "id": "3GiOZBRJCu8S",
        "colab": {
          "base_uri": "https://localhost:8080/",
          "height": 49,
          "referenced_widgets": [
            "d0a2f8521f904b1d8a9d8a912a1d407b",
            "96d42092e76047c087d0d74236e05383",
            "684513a6882f4ac4bffc3c178e42a9f1",
            "2af299fb2720428a842e050f1dff9ee8",
            "8cc5d795a9b14ef7b5b105f9f04183c4",
            "ce9a0eb60a4246acaff0e4525ba83a45",
            "e3f7c1fb16d84f8ead96ba3eb75f9c6b",
            "2efbf49d9dfc4aa19fdd08591f4bb769",
            "3e35f701008d4efc8e400768ca340c4b",
            "f5ae7f361c1d495d9e24ea356cbf498a",
            "c53cbe356bf7477396d2c510ff7b6a22"
          ]
        },
        "outputId": "ff56bf20-a3e0-43bb-db7e-f342a04e926e"
      },
      "outputs": [
        {
          "output_type": "display_data",
          "data": {
            "text/plain": [
              "  0%|          | 0/90 [00:00<?, ?it/s]"
            ],
            "application/vnd.jupyter.widget-view+json": {
              "version_major": 2,
              "version_minor": 0,
              "model_id": "d0a2f8521f904b1d8a9d8a912a1d407b"
            }
          },
          "metadata": {}
        }
      ],
      "source": [
        "all_data = []\n",
        "\n",
        "for img in tqdm(file_paths):\n",
        "    img = cv2.imread(img)\n",
        "    img = img[..., ::-1]\n",
        "    all_data.append(img)\n",
        "\n",
        "# 檢查 all_data 中每個圖像的形狀\n",
        "for img in all_data:\n",
        "    if img.shape != all_data[0].shape:\n",
        "        raise ValueError(\"所有圖像的形狀必須相同\")\n",
        "\n",
        "# 使用 np.stack() 對 all_data 進行堆疊\n",
        "# all_data = np.stack(all_data)\n",
        "# print(all_data.shape)"
      ]
    },
    {
      "cell_type": "code",
      "execution_count": null,
      "metadata": {
        "id": "ii8LH8s4Cu8S"
      },
      "outputs": [],
      "source": [
        "# import matplotlib.pyplot as plt\n",
        "# import numpy as np\n",
        "\n",
        "# classes = sorted(set([path.split('/')[1] for path in file_paths]))\n",
        "# print(f'Classes: {classes}')\n",
        "\n",
        "# images_per_class = len(all_data) // len(classes)\n",
        "# fig, axs = plt.subplots(len(classes), 2, figsize=(6, 4 * len(classes)))\n",
        "\n",
        "# for i, class_name in enumerate(classes):\n",
        "#     index = i * images_per_class\n",
        "#     for j in range(2):\n",
        "#         axs[i, j].set_title(f'{i}. {class_name}')\n",
        "#         axs[i, j].imshow(all_data[index + j])\n",
        "#         axs[i, j].axis('off')\n",
        "\n",
        "# plt.tight_layout()\n",
        "# plt.show()"
      ]
    },
    {
      "cell_type": "markdown",
      "metadata": {
        "id": "w-1PsC--M7pT"
      },
      "source": [
        "## A. Data Loading and Preprocessing"
      ]
    },
    {
      "cell_type": "code",
      "execution_count": null,
      "metadata": {
        "id": "nGFI8GMpCu8S",
        "colab": {
          "base_uri": "https://localhost:8080/"
        },
        "outputId": "b886c10b-7ffc-4733-8fb4-e88556516400"
      },
      "outputs": [
        {
          "output_type": "stream",
          "name": "stdout",
          "text": [
            "Shape of x_train: (49, 3, 1024, 1024)\n",
            "Shape of x_val: (21, 3, 1024, 1024)\n",
            "Shape of y_train: (49,)\n",
            "Shape of y_val: (21,)\n"
          ]
        }
      ],
      "source": [
        "import torch\n",
        "from torch.utils.data import DataLoader, TensorDataset, random_split\n",
        "import numpy as np\n",
        "\n",
        "num_classes = 7\n",
        "images_per_class = 10\n",
        "train_images_per_class = int(images_per_class * 0.7)\n",
        "val_images_per_class = int(images_per_class * 0.3)\n",
        "\n",
        "x_train = []\n",
        "x_val = []\n",
        "\n",
        "for i in range(num_classes):\n",
        "    start_index = i * images_per_class\n",
        "    x_train.extend(all_data[start_index:start_index + train_images_per_class])\n",
        "    x_val.extend(all_data[start_index + train_images_per_class:start_index + images_per_class])\n",
        "\n",
        "# The shape changes from (batch_size, height, width, channels) to (batch_size, channels, height, width)\n",
        "x_train = np.transpose(np.array(x_train), (0, 3, 1, 2))\n",
        "x_val = np.transpose(np.array(x_val), (0, 3, 1, 2))\n",
        "\n",
        "y_train = np.concatenate([np.full(train_images_per_class, i) for i in range(num_classes)])\n",
        "y_val = np.concatenate([np.full(val_images_per_class, i) for i in range(num_classes)])\n",
        "\n",
        "print(f'Shape of x_train: {x_train.shape}')\n",
        "print(f'Shape of x_val: {x_val.shape}')\n",
        "print(f'Shape of y_train: {y_train.shape}')\n",
        "print(f'Shape of y_val: {y_val.shape}')"
      ]
    },
    {
      "cell_type": "code",
      "execution_count": null,
      "metadata": {
        "id": "h-CnfsmbCu8T"
      },
      "outputs": [],
      "source": [
        "from torchvision import datasets, transforms\n",
        "from torch.utils.data import DataLoader, Dataset\n",
        "from PIL import Image\n",
        "\n",
        "train_transforms = transforms.Compose(\n",
        "    [\n",
        "        transforms.Resize((32, 32)),\n",
        "        transforms.AutoAugment(),\n",
        "        transforms.RandomHorizontalFlip(),\n",
        "        transforms.ToTensor(),\n",
        "    ]\n",
        ")\n",
        "\n",
        "val_transforms = transforms.Compose(\n",
        "    [\n",
        "        transforms.Resize((32, 32)),\n",
        "        transforms.ToTensor(),\n",
        "    ]\n",
        ")\n",
        "\n",
        "class MyDataset(Dataset):\n",
        "    def __init__(self, x, y, transform=None):\n",
        "        self.x = x\n",
        "        self.y = torch.from_numpy(y).long()\n",
        "        self.transform = transform\n",
        "\n",
        "    def __len__(self):\n",
        "        return len(self.x)\n",
        "\n",
        "    def __getitem__(self, idx):\n",
        "        new_x = np.transpose(self.x[idx], (1, 2, 0))\n",
        "        return self.transform(Image.fromarray(new_x)), self.y[idx]"
      ]
    },
    {
      "cell_type": "code",
      "execution_count": null,
      "metadata": {
        "id": "53ZVFFacCu8T"
      },
      "outputs": [],
      "source": [
        "batch_size = 32\n",
        "\n",
        "train_dataset = MyDataset(x_train, y_train, train_transforms)\n",
        "val_dataset = MyDataset(x_val, y_val, val_transforms)\n",
        "\n",
        "train_loader = DataLoader(dataset=train_dataset, batch_size=batch_size, shuffle=True, num_workers=2, pin_memory=True, persistent_workers=True)\n",
        "val_loader = DataLoader(dataset=val_dataset, batch_size=batch_size, shuffle=False, num_workers=1, pin_memory=True, persistent_workers=True)"
      ]
    },
    {
      "cell_type": "markdown",
      "metadata": {
        "id": "oaLGtT28xc6s"
      },
      "source": [
        "## B. Defining Neural Networks"
      ]
    },
    {
      "cell_type": "code",
      "execution_count": null,
      "metadata": {
        "id": "oDX8iDKJCu8U",
        "colab": {
          "base_uri": "https://localhost:8080/"
        },
        "outputId": "93a4b39a-12e4-4809-969f-7e9ffaeb874a"
      },
      "outputs": [
        {
          "output_type": "stream",
          "name": "stdout",
          "text": [
            "ResNet(\n",
            "  (conv1): Conv2d(3, 64, kernel_size=(7, 7), stride=(2, 2), padding=(3, 3), bias=False)\n",
            "  (bn1): BatchNorm2d(64, eps=1e-05, momentum=0.1, affine=True, track_running_stats=True)\n",
            "  (relu): ReLU(inplace=True)\n",
            "  (maxpool): MaxPool2d(kernel_size=3, stride=2, padding=1, dilation=1, ceil_mode=False)\n",
            "  (layer1): Sequential(\n",
            "    (0): BasicBlock(\n",
            "      (conv1): Conv2d(64, 64, kernel_size=(3, 3), stride=(1, 1), padding=(1, 1), bias=False)\n",
            "      (bn1): BatchNorm2d(64, eps=1e-05, momentum=0.1, affine=True, track_running_stats=True)\n",
            "      (relu): ReLU(inplace=True)\n",
            "      (conv2): Conv2d(64, 64, kernel_size=(3, 3), stride=(1, 1), padding=(1, 1), bias=False)\n",
            "      (bn2): BatchNorm2d(64, eps=1e-05, momentum=0.1, affine=True, track_running_stats=True)\n",
            "    )\n",
            "    (1): BasicBlock(\n",
            "      (conv1): Conv2d(64, 64, kernel_size=(3, 3), stride=(1, 1), padding=(1, 1), bias=False)\n",
            "      (bn1): BatchNorm2d(64, eps=1e-05, momentum=0.1, affine=True, track_running_stats=True)\n",
            "      (relu): ReLU(inplace=True)\n",
            "      (conv2): Conv2d(64, 64, kernel_size=(3, 3), stride=(1, 1), padding=(1, 1), bias=False)\n",
            "      (bn2): BatchNorm2d(64, eps=1e-05, momentum=0.1, affine=True, track_running_stats=True)\n",
            "    )\n",
            "  )\n",
            "  (layer2): Sequential(\n",
            "    (0): BasicBlock(\n",
            "      (conv1): Conv2d(64, 128, kernel_size=(3, 3), stride=(2, 2), padding=(1, 1), bias=False)\n",
            "      (bn1): BatchNorm2d(128, eps=1e-05, momentum=0.1, affine=True, track_running_stats=True)\n",
            "      (relu): ReLU(inplace=True)\n",
            "      (conv2): Conv2d(128, 128, kernel_size=(3, 3), stride=(1, 1), padding=(1, 1), bias=False)\n",
            "      (bn2): BatchNorm2d(128, eps=1e-05, momentum=0.1, affine=True, track_running_stats=True)\n",
            "      (downsample): Sequential(\n",
            "        (0): Conv2d(64, 128, kernel_size=(1, 1), stride=(2, 2), bias=False)\n",
            "        (1): BatchNorm2d(128, eps=1e-05, momentum=0.1, affine=True, track_running_stats=True)\n",
            "      )\n",
            "    )\n",
            "    (1): BasicBlock(\n",
            "      (conv1): Conv2d(128, 128, kernel_size=(3, 3), stride=(1, 1), padding=(1, 1), bias=False)\n",
            "      (bn1): BatchNorm2d(128, eps=1e-05, momentum=0.1, affine=True, track_running_stats=True)\n",
            "      (relu): ReLU(inplace=True)\n",
            "      (conv2): Conv2d(128, 128, kernel_size=(3, 3), stride=(1, 1), padding=(1, 1), bias=False)\n",
            "      (bn2): BatchNorm2d(128, eps=1e-05, momentum=0.1, affine=True, track_running_stats=True)\n",
            "    )\n",
            "  )\n",
            "  (layer3): Sequential(\n",
            "    (0): BasicBlock(\n",
            "      (conv1): Conv2d(128, 256, kernel_size=(3, 3), stride=(2, 2), padding=(1, 1), bias=False)\n",
            "      (bn1): BatchNorm2d(256, eps=1e-05, momentum=0.1, affine=True, track_running_stats=True)\n",
            "      (relu): ReLU(inplace=True)\n",
            "      (conv2): Conv2d(256, 256, kernel_size=(3, 3), stride=(1, 1), padding=(1, 1), bias=False)\n",
            "      (bn2): BatchNorm2d(256, eps=1e-05, momentum=0.1, affine=True, track_running_stats=True)\n",
            "      (downsample): Sequential(\n",
            "        (0): Conv2d(128, 256, kernel_size=(1, 1), stride=(2, 2), bias=False)\n",
            "        (1): BatchNorm2d(256, eps=1e-05, momentum=0.1, affine=True, track_running_stats=True)\n",
            "      )\n",
            "    )\n",
            "    (1): BasicBlock(\n",
            "      (conv1): Conv2d(256, 256, kernel_size=(3, 3), stride=(1, 1), padding=(1, 1), bias=False)\n",
            "      (bn1): BatchNorm2d(256, eps=1e-05, momentum=0.1, affine=True, track_running_stats=True)\n",
            "      (relu): ReLU(inplace=True)\n",
            "      (conv2): Conv2d(256, 256, kernel_size=(3, 3), stride=(1, 1), padding=(1, 1), bias=False)\n",
            "      (bn2): BatchNorm2d(256, eps=1e-05, momentum=0.1, affine=True, track_running_stats=True)\n",
            "    )\n",
            "  )\n",
            "  (layer4): Sequential(\n",
            "    (0): BasicBlock(\n",
            "      (conv1): Conv2d(256, 512, kernel_size=(3, 3), stride=(2, 2), padding=(1, 1), bias=False)\n",
            "      (bn1): BatchNorm2d(512, eps=1e-05, momentum=0.1, affine=True, track_running_stats=True)\n",
            "      (relu): ReLU(inplace=True)\n",
            "      (conv2): Conv2d(512, 512, kernel_size=(3, 3), stride=(1, 1), padding=(1, 1), bias=False)\n",
            "      (bn2): BatchNorm2d(512, eps=1e-05, momentum=0.1, affine=True, track_running_stats=True)\n",
            "      (downsample): Sequential(\n",
            "        (0): Conv2d(256, 512, kernel_size=(1, 1), stride=(2, 2), bias=False)\n",
            "        (1): BatchNorm2d(512, eps=1e-05, momentum=0.1, affine=True, track_running_stats=True)\n",
            "      )\n",
            "    )\n",
            "    (1): BasicBlock(\n",
            "      (conv1): Conv2d(512, 512, kernel_size=(3, 3), stride=(1, 1), padding=(1, 1), bias=False)\n",
            "      (bn1): BatchNorm2d(512, eps=1e-05, momentum=0.1, affine=True, track_running_stats=True)\n",
            "      (relu): ReLU(inplace=True)\n",
            "      (conv2): Conv2d(512, 512, kernel_size=(3, 3), stride=(1, 1), padding=(1, 1), bias=False)\n",
            "      (bn2): BatchNorm2d(512, eps=1e-05, momentum=0.1, affine=True, track_running_stats=True)\n",
            "    )\n",
            "  )\n",
            "  (avgpool): AdaptiveAvgPool2d(output_size=(1, 1))\n",
            "  (fc): Linear(in_features=512, out_features=7, bias=True)\n",
            ")\n"
          ]
        }
      ],
      "source": [
        "import torch.nn as nn\n",
        "import torch.nn.functional as F\n",
        "from torchvision import models\n",
        "\n",
        "model = models.resnet18(weights='IMAGENET1K_V1')\n",
        "\n",
        "# ConvNet as fixed feature extractor (freeze parameters)\n",
        "for param in model.parameters():\n",
        "    param.requires_grad = False\n",
        "\n",
        "num_ftrs = model.fc.in_features\n",
        "num_class = 7\n",
        "\n",
        "# change # of class from 1000 into 8 in the last layer\n",
        "model.fc = nn.Linear(num_ftrs, num_class)\n",
        "print(model)"
      ]
    },
    {
      "cell_type": "markdown",
      "metadata": {
        "id": "nvLTU-IfZLqn"
      },
      "source": [
        "## C. Training the Neural Network"
      ]
    },
    {
      "cell_type": "code",
      "execution_count": null,
      "metadata": {
        "id": "45ol4lpVxc6t",
        "colab": {
          "base_uri": "https://localhost:8080/",
          "height": 972,
          "referenced_widgets": [
            "efc08ca390fc49abb0cd1259d327a749",
            "1302aa54a288417f9327791846f8edbe",
            "fdb2b40db9a149e79a8adb12589f6f3d",
            "b7fbe4c23cf0494ea70eecf2838ecb32",
            "9eef68bed81f47678c318e0ae8891a3a",
            "7f51748ea05e4092bf1e6f8ca8594ea9",
            "0cadc98c10d749ce9e2b81e933c00eeb",
            "fc45a30a6f574b5dab7e88efb6b36320",
            "ad3f7273ca69439cb996ff4ce5081932",
            "79257857ac15415bb7c0b5c4399b8380",
            "dfe98e7f3ff24ce1b300b9343a2a8f89"
          ]
        },
        "outputId": "ee5470a3-3b40-48cb-875a-06bb44ee5977"
      },
      "outputs": [
        {
          "output_type": "display_data",
          "data": {
            "text/plain": [
              "  0%|          | 0/50 [00:00<?, ?it/s]"
            ],
            "application/vnd.jupyter.widget-view+json": {
              "version_major": 2,
              "version_minor": 0,
              "model_id": "efc08ca390fc49abb0cd1259d327a749"
            }
          },
          "metadata": {}
        },
        {
          "output_type": "stream",
          "name": "stderr",
          "text": [
            "/usr/lib/python3.10/multiprocessing/popen_fork.py:66: RuntimeWarning: os.fork() was called. os.fork() is incompatible with multithreaded code, and JAX is multithreaded, so this will likely lead to a deadlock.\n",
            "  self.pid = os.fork()\n"
          ]
        },
        {
          "output_type": "stream",
          "name": "stdout",
          "text": [
            "Epoch 1/50, Train loss: 2.3975, Train acc: 14.2857%, Val loss: 1.9612, Val acc: 14.2857%, Best Val loss: 1.9612 Best Val acc: 14.29%\n",
            "Epoch 2/50, Train loss: 2.1769, Train acc: 6.1224%, Val loss: 1.9884, Val acc: 14.2857%, Best Val loss: 1.9612 Best Val acc: 14.29%\n",
            "Epoch 3/50, Train loss: 2.4145, Train acc: 14.2857%, Val loss: 2.0112, Val acc: 14.2857%, Best Val loss: 1.9612 Best Val acc: 14.29%\n",
            "Epoch 4/50, Train loss: 2.4371, Train acc: 16.3265%, Val loss: 1.9706, Val acc: 14.2857%, Best Val loss: 1.9612 Best Val acc: 14.29%\n",
            "Epoch 5/50, Train loss: 2.4677, Train acc: 14.2857%, Val loss: 2.0453, Val acc: 14.2857%, Best Val loss: 1.9612 Best Val acc: 14.29%\n",
            "Epoch 6/50, Train loss: 2.4948, Train acc: 16.3265%, Val loss: 2.3465, Val acc: 14.2857%, Best Val loss: 1.9612 Best Val acc: 14.29%\n",
            "Epoch 7/50, Train loss: 2.4993, Train acc: 12.2449%, Val loss: 2.4115, Val acc: 14.2857%, Best Val loss: 1.9612 Best Val acc: 14.29%\n",
            "Epoch 8/50, Train loss: 2.5259, Train acc: 22.4490%, Val loss: 2.0932, Val acc: 14.2857%, Best Val loss: 1.9612 Best Val acc: 14.29%\n",
            "Epoch 9/50, Train loss: 2.2474, Train acc: 14.2857%, Val loss: 2.1076, Val acc: 14.2857%, Best Val loss: 1.9612 Best Val acc: 14.29%\n",
            "Epoch 10/50, Train loss: 2.4606, Train acc: 14.2857%, Val loss: 2.3060, Val acc: 14.2857%, Best Val loss: 1.9612 Best Val acc: 14.29%\n",
            "Epoch 11/50, Train loss: 2.4387, Train acc: 24.4898%, Val loss: 2.5723, Val acc: 14.2857%, Best Val loss: 1.9612 Best Val acc: 14.29%\n",
            "Epoch 12/50, Train loss: 2.4763, Train acc: 12.2449%, Val loss: 2.4809, Val acc: 14.2857%, Best Val loss: 1.9612 Best Val acc: 14.29%\n",
            "Epoch 13/50, Train loss: 2.7574, Train acc: 32.6531%, Val loss: 2.2888, Val acc: 14.2857%, Best Val loss: 1.9612 Best Val acc: 14.29%\n",
            "Epoch 14/50, Train loss: 2.2257, Train acc: 24.4898%, Val loss: 2.4608, Val acc: 14.2857%, Best Val loss: 1.9612 Best Val acc: 14.29%\n",
            "Epoch 15/50, Train loss: 2.4154, Train acc: 26.5306%, Val loss: 2.5832, Val acc: 14.2857%, Best Val loss: 1.9612 Best Val acc: 14.29%\n",
            "Epoch 16/50, Train loss: 2.2755, Train acc: 34.6939%, Val loss: 3.2060, Val acc: 14.2857%, Best Val loss: 1.9612 Best Val acc: 14.29%\n",
            "Epoch 17/50, Train loss: 2.4437, Train acc: 24.4898%, Val loss: 3.2092, Val acc: 14.2857%, Best Val loss: 1.9612 Best Val acc: 14.29%\n",
            "Epoch 18/50, Train loss: 2.2627, Train acc: 24.4898%, Val loss: 3.2118, Val acc: 14.2857%, Best Val loss: 1.9612 Best Val acc: 14.29%\n",
            "Epoch 19/50, Train loss: 2.3306, Train acc: 30.6122%, Val loss: 4.1897, Val acc: 14.2857%, Best Val loss: 1.9612 Best Val acc: 14.29%\n",
            "Epoch 20/50, Train loss: 2.2282, Train acc: 30.6122%, Val loss: 4.9316, Val acc: 14.2857%, Best Val loss: 1.9612 Best Val acc: 14.29%\n",
            "Epoch 21/50, Train loss: 2.5366, Train acc: 28.5714%, Val loss: 6.3327, Val acc: 14.2857%, Best Val loss: 1.9612 Best Val acc: 14.29%\n",
            "Epoch 22/50, Train loss: 2.7578, Train acc: 22.4490%, Val loss: 6.4629, Val acc: 14.2857%, Best Val loss: 1.9612 Best Val acc: 14.29%\n",
            "Epoch 23/50, Train loss: 2.4831, Train acc: 26.5306%, Val loss: 7.1441, Val acc: 14.2857%, Best Val loss: 1.9612 Best Val acc: 14.29%\n",
            "Epoch 24/50, Train loss: 2.4463, Train acc: 28.5714%, Val loss: 7.8317, Val acc: 14.2857%, Best Val loss: 1.9612 Best Val acc: 14.29%\n",
            "Epoch 25/50, Train loss: 2.8560, Train acc: 22.4490%, Val loss: 7.2959, Val acc: 14.2857%, Best Val loss: 1.9612 Best Val acc: 14.29%\n",
            "Epoch 26/50, Train loss: 2.7326, Train acc: 14.2857%, Val loss: 6.6166, Val acc: 14.2857%, Best Val loss: 1.9612 Best Val acc: 14.29%\n",
            "Epoch 27/50, Train loss: 2.5423, Train acc: 30.6122%, Val loss: 7.5546, Val acc: 14.2857%, Best Val loss: 1.9612 Best Val acc: 14.29%\n",
            "Epoch 28/50, Train loss: 2.5781, Train acc: 32.6531%, Val loss: 7.4829, Val acc: 14.2857%, Best Val loss: 1.9612 Best Val acc: 14.29%\n",
            "Epoch 29/50, Train loss: 2.2985, Train acc: 24.4898%, Val loss: 5.5164, Val acc: 14.2857%, Best Val loss: 1.9612 Best Val acc: 14.29%\n",
            "Epoch 30/50, Train loss: 2.3878, Train acc: 38.7755%, Val loss: 5.1936, Val acc: 14.2857%, Best Val loss: 1.9612 Best Val acc: 14.29%\n",
            "Epoch 31/50, Train loss: 2.3476, Train acc: 34.6939%, Val loss: 4.3034, Val acc: 14.2857%, Best Val loss: 1.9612 Best Val acc: 14.29%\n",
            "Epoch 32/50, Train loss: 2.8592, Train acc: 24.4898%, Val loss: 3.3812, Val acc: 19.0476%, Best Val loss: 1.9612 Best Val acc: 19.05%\n",
            "Epoch 33/50, Train loss: 2.6946, Train acc: 30.6122%, Val loss: 3.7718, Val acc: 14.2857%, Best Val loss: 1.9612 Best Val acc: 19.05%\n",
            "Epoch 34/50, Train loss: 2.6111, Train acc: 26.5306%, Val loss: 4.3063, Val acc: 14.2857%, Best Val loss: 1.9612 Best Val acc: 19.05%\n",
            "Epoch 35/50, Train loss: 2.5045, Train acc: 28.5714%, Val loss: 3.7075, Val acc: 14.2857%, Best Val loss: 1.9612 Best Val acc: 19.05%\n",
            "Epoch 36/50, Train loss: 2.4353, Train acc: 24.4898%, Val loss: 3.2282, Val acc: 14.2857%, Best Val loss: 1.9612 Best Val acc: 19.05%\n",
            "Epoch 37/50, Train loss: 2.4283, Train acc: 34.6939%, Val loss: 2.9506, Val acc: 14.2857%, Best Val loss: 1.9612 Best Val acc: 19.05%\n",
            "Epoch 38/50, Train loss: 2.4269, Train acc: 26.5306%, Val loss: 3.1717, Val acc: 14.2857%, Best Val loss: 1.9612 Best Val acc: 19.05%\n",
            "Epoch 39/50, Train loss: 2.7661, Train acc: 26.5306%, Val loss: 2.7629, Val acc: 14.2857%, Best Val loss: 1.9612 Best Val acc: 19.05%\n",
            "Epoch 40/50, Train loss: 2.5460, Train acc: 34.6939%, Val loss: 2.7000, Val acc: 9.5238%, Best Val loss: 1.9612 Best Val acc: 19.05%\n",
            "Epoch 41/50, Train loss: 2.4984, Train acc: 24.4898%, Val loss: 3.0939, Val acc: 14.2857%, Best Val loss: 1.9612 Best Val acc: 19.05%\n",
            "Epoch 42/50, Train loss: 2.7374, Train acc: 26.5306%, Val loss: 2.8913, Val acc: 9.5238%, Best Val loss: 1.9612 Best Val acc: 19.05%\n",
            "Epoch 43/50, Train loss: 2.5021, Train acc: 16.3265%, Val loss: 2.8499, Val acc: 4.7619%, Best Val loss: 1.9612 Best Val acc: 19.05%\n",
            "Epoch 44/50, Train loss: 2.3827, Train acc: 24.4898%, Val loss: 3.2386, Val acc: 14.2857%, Best Val loss: 1.9612 Best Val acc: 19.05%\n",
            "Epoch 45/50, Train loss: 2.2170, Train acc: 36.7347%, Val loss: 3.4466, Val acc: 14.2857%, Best Val loss: 1.9612 Best Val acc: 19.05%\n",
            "Epoch 46/50, Train loss: 2.7273, Train acc: 24.4898%, Val loss: 2.5286, Val acc: 19.0476%, Best Val loss: 1.9612 Best Val acc: 19.05%\n",
            "Epoch 47/50, Train loss: 2.2467, Train acc: 38.7755%, Val loss: 2.8060, Val acc: 19.0476%, Best Val loss: 1.9612 Best Val acc: 19.05%\n",
            "Epoch 48/50, Train loss: 2.7692, Train acc: 34.6939%, Val loss: 2.4573, Val acc: 23.8095%, Best Val loss: 1.9612 Best Val acc: 23.81%\n",
            "Epoch 49/50, Train loss: 3.0377, Train acc: 22.4490%, Val loss: 2.4227, Val acc: 19.0476%, Best Val loss: 1.9612 Best Val acc: 23.81%\n",
            "Epoch 50/50, Train loss: 2.6047, Train acc: 32.6531%, Val loss: 2.7119, Val acc: 23.8095%, Best Val loss: 1.9612 Best Val acc: 23.81%\n"
          ]
        }
      ],
      "source": [
        "import torch.optim as optim\n",
        "from torch.optim.lr_scheduler import CosineAnnealingLR, StepLR\n",
        "from tqdm.auto import tqdm\n",
        "\n",
        "train_losses = []\n",
        "val_losses = []\n",
        "train_accuracies = []\n",
        "val_accuracies = []\n",
        "\n",
        "epochs = 50\n",
        "model = model.cuda()\n",
        "\n",
        "best_val_loss = float('inf')\n",
        "best_val_acc = -1\n",
        "\n",
        "criterion = nn.CrossEntropyLoss()\n",
        "optimizer = optim.SGD(model.parameters(), lr=0.01, momentum=0.9)\n",
        "# optimizer = optim.Adam(model.parameters(), lr=1e-3)\n",
        "# lr_scheduler = CosineAnnealingLR(optimizer, T_max=len(train_loader)*epochs, eta_min=0)\n",
        "\n",
        "for epoch in tqdm(range(epochs)):\n",
        "    # Training\n",
        "    model.train()\n",
        "    total_loss = 0.0\n",
        "    train_correct = 0\n",
        "    total_train_samples = 0\n",
        "\n",
        "    for images, labels in train_loader:\n",
        "        images = images.cuda()\n",
        "        images = (images) / 255.\n",
        "        labels = labels.cuda()\n",
        "        optimizer.zero_grad()\n",
        "        outputs = model(images)\n",
        "\n",
        "        labels = labels.long()\n",
        "\n",
        "        loss = criterion(outputs, labels)\n",
        "        loss.backward()\n",
        "        optimizer.step()\n",
        "        total_loss += loss.item()\n",
        "\n",
        "        train_predicted = outputs.argmax(-1)\n",
        "        train_correct += (train_predicted == labels).sum().item()\n",
        "        total_train_samples += labels.size(0)\n",
        "\n",
        "    avg_train_loss = total_loss / len(train_loader)\n",
        "    train_accuracy = 100. * train_correct / total_train_samples\n",
        "\n",
        "    # Validation\n",
        "    model.eval()\n",
        "    total_val_loss = 0.0\n",
        "    correct = 0\n",
        "    total = 0\n",
        "    with torch.no_grad():\n",
        "        for images, labels in val_loader:\n",
        "            images = images.cuda()\n",
        "            images = (images) / 255.\n",
        "            labels = labels.cuda()\n",
        "            outputs = model(images)\n",
        "\n",
        "            labels = labels.long()\n",
        "\n",
        "            loss = criterion(outputs, labels)\n",
        "            total_val_loss += loss.item()\n",
        "\n",
        "            predicted = outputs.argmax(-1)\n",
        "            correct += (predicted == labels).sum().item()\n",
        "            total += labels.size(0)\n",
        "\n",
        "    avg_val_loss = total_val_loss / len(val_loader)\n",
        "    val_accuracy = 100. * correct / total\n",
        "\n",
        "    # Learning rate update\n",
        "    # lr_scheduler.step()\n",
        "\n",
        "    # Checkpoint\n",
        "    if avg_val_loss < best_val_loss:\n",
        "        best_val_loss = avg_val_loss\n",
        "\n",
        "    if val_accuracy > best_val_acc:\n",
        "        best_val_acc = val_accuracy\n",
        "        torch.save(model.state_dict(), 'model_classification.pth')\n",
        "\n",
        "    print(f'Epoch {epoch+1}/{epochs}, Train loss: {avg_train_loss:.4f}, Train acc: {train_accuracy:.4f}%, Val loss: {avg_val_loss:.4f}, Val acc: {val_accuracy:.4f}%, Best Val loss: {best_val_loss:.4f} Best Val acc: {best_val_acc:.2f}%')\n",
        "\n",
        "    # Store performance\n",
        "    train_losses.append(avg_train_loss)\n",
        "    train_accuracies.append(train_accuracy)\n",
        "    val_losses.append(avg_val_loss)\n",
        "    val_accuracies.append(val_accuracy)"
      ]
    },
    {
      "cell_type": "markdown",
      "metadata": {
        "id": "pjmYxAJnxc6t"
      },
      "source": [
        "### Visualizing model performance"
      ]
    },
    {
      "cell_type": "code",
      "execution_count": null,
      "metadata": {
        "id": "pHpS0Q7vxc6t",
        "colab": {
          "base_uri": "https://localhost:8080/"
        },
        "outputId": "df9adbef-c8c9-41dc-837b-ceee2420ba9c"
      },
      "outputs": [
        {
          "output_type": "display_data",
          "data": {
            "text/plain": [
              "<Figure size 1500x500 with 2 Axes>"
            ],
            "image/png": "[encoded data removed]"
          },
          "metadata": {}
        }
      ],
      "source": [
        "import matplotlib.pyplot as plt\n",
        "\n",
        "fig, ax = plt.subplots(1, 2, figsize=(15, 5))\n",
        "\n",
        "# Plotting training and validation accuracy\n",
        "ax[0].plot(train_accuracies)\n",
        "ax[0].plot(val_accuracies)\n",
        "ax[0].set_title('Model Accuracy')\n",
        "ax[0].set_xlabel('Epochs')\n",
        "ax[0].set_ylabel('Accuracy')\n",
        "ax[0].legend(['Train', 'Val'])\n",
        "\n",
        "# Plotting training and validation loss\n",
        "ax[1].plot(train_losses)\n",
        "ax[1].plot(val_losses)\n",
        "ax[1].set_title('Model Loss')\n",
        "ax[1].set_xlabel('Epochs')\n",
        "ax[1].set_ylabel('Loss')\n",
        "ax[1].legend(['Train', 'Val'])\n",
        "\n",
        "plt.show()"
      ]
    },
    {
      "cell_type": "markdown",
      "metadata": {
        "id": "WVDWBwv6Cu8V"
      },
      "source": [
        "## D. Evaluating Your Trained Model"
      ]
    },
    {
      "cell_type": "markdown",
      "metadata": {
        "id": "uEztHBDjCu8V"
      },
      "source": [
        "### Load Trained Model and Evaluate"
      ]
    },
    {
      "cell_type": "code",
      "execution_count": null,
      "metadata": {
        "id": "2DA1qHXpCu8V",
        "colab": {
          "base_uri": "https://localhost:8080/"
        },
        "outputId": "2db47a0d-b345-47ca-b2c8-20a94105e58f"
      },
      "outputs": [
        {
          "output_type": "stream",
          "name": "stdout",
          "text": [
            "tensor([0, 1, 1, 1, 1, 1, 0, 5, 1, 0, 1, 5, 0, 0, 1, 5, 0, 1, 1, 1, 1],\n",
            "       device='cuda:0')\n",
            "tensor([0, 0, 0, 1, 1, 1, 2, 2, 2, 3, 3, 3, 4, 4, 4, 5, 5, 5, 6, 6, 6],\n",
            "       device='cuda:0')\n",
            "Test accuracy is 23.80952380952381%\n"
          ]
        }
      ],
      "source": [
        "# Load the trained weights\n",
        "model.load_state_dict(torch.load('model_classification.pth'))\n",
        "\n",
        "# Set the model to evaluation mode\n",
        "model.eval()\n",
        "\n",
        "test_correct = 0\n",
        "test_total = 0\n",
        "\n",
        "with torch.no_grad():\n",
        "    for images, labels in val_loader:\n",
        "\n",
        "        images = images.cuda()\n",
        "        images = (images) / 255.\n",
        "\n",
        "        labels = labels.cuda()\n",
        "        labels = labels.long()\n",
        "\n",
        "        outputs = model(images)\n",
        "\n",
        "        predicted = outputs.argmax(-1)\n",
        "        print(predicted)\n",
        "        print(labels)\n",
        "        test_correct += (predicted == labels).sum().item()\n",
        "        test_total += labels.size(0)\n",
        "\n",
        "print(f'Test accuracy is {100. * test_correct / test_total}%')"
      ]
    },
    {
      "cell_type": "code",
      "source": [],
      "metadata": {
        "id": "jG6DuAgcEgxj"
      },
      "execution_count": null,
      "outputs": []
    }
  ],
  "metadata": {
    "accelerator": "GPU",
    "colab": {
      "gpuType": "T4",
      "provenance": [],
      "toc_visible": true
    },
    "kernelspec": {
      "display_name": "Python 3 (ipykernel)",
      "language": "python",
      "name": "python3"
    },
    "language_info": {
      "codemirror_mode": {
        "name": "ipython",
        "version": 3
      },
      "file_extension": ".py",
      "mimetype": "text/x-python",
      "name": "python",
      "nbconvert_exporter": "python",
      "pygments_lexer": "ipython3",
      "version": "3.8.13"
    },
    "widgets": {
      "application/vnd.jupyter.widget-state+json": {
        "d0a2f8521f904b1d8a9d8a912a1d407b": {
          "model_module": "@jupyter-widgets/controls",
          "model_name": "HBoxModel",
          "model_module_version": "1.5.0",
          "state": {
            "_dom_classes": [],
            "_model_module": "@jupyter-widgets/controls",
            "_model_module_version": "1.5.0",
            "_model_name": "HBoxModel",
            "_view_count": null,
            "_view_module": "@jupyter-widgets/controls",
            "_view_module_version": "1.5.0",
            "_view_name": "HBoxView",
            "box_style": "",
            "children": [
              "IPY_MODEL_96d42092e76047c087d0d74236e05383",
              "IPY_MODEL_684513a6882f4ac4bffc3c178e42a9f1",
              "IPY_MODEL_2af299fb2720428a842e050f1dff9ee8"
            ],
            "layout": "IPY_MODEL_8cc5d795a9b14ef7b5b105f9f04183c4"
          }
        },
        "96d42092e76047c087d0d74236e05383": {
          "model_module": "@jupyter-widgets/controls",
          "model_name": "HTMLModel",
          "model_module_version": "1.5.0",
          "state": {
            "_dom_classes": [],
            "_model_module": "@jupyter-widgets/controls",
            "_model_module_version": "1.5.0",
            "_model_name": "HTMLModel",
            "_view_count": null,
            "_view_module": "@jupyter-widgets/controls",
            "_view_module_version": "1.5.0",
            "_view_name": "HTMLView",
            "description": "",
            "description_tooltip": null,
            "layout": "IPY_MODEL_ce9a0eb60a4246acaff0e4525ba83a45",
            "placeholder": "​",
            "style": "IPY_MODEL_e3f7c1fb16d84f8ead96ba3eb75f9c6b",
            "value": "100%"
          }
        },
        "684513a6882f4ac4bffc3c178e42a9f1": {
          "model_module": "@jupyter-widgets/controls",
          "model_name": "FloatProgressModel",
          "model_module_version": "1.5.0",
          "state": {
            "_dom_classes": [],
            "_model_module": "@jupyter-widgets/controls",
            "_model_module_version": "1.5.0",
            "_model_name": "FloatProgressModel",
            "_view_count": null,
            "_view_module": "@jupyter-widgets/controls",
            "_view_module_version": "1.5.0",
            "_view_name": "ProgressView",
            "bar_style": "success",
            "description": "",
            "description_tooltip": null,
            "layout": "IPY_MODEL_2efbf49d9dfc4aa19fdd08591f4bb769",
            "max": 90,
            "min": 0,
            "orientation": "horizontal",
            "style": "IPY_MODEL_3e35f701008d4efc8e400768ca340c4b",
            "value": 90
          }
        },
        "2af299fb2720428a842e050f1dff9ee8": {
          "model_module": "@jupyter-widgets/controls",
          "model_name": "HTMLModel",
          "model_module_version": "1.5.0",
          "state": {
            "_dom_classes": [],
            "_model_module": "@jupyter-widgets/controls",
            "_model_module_version": "1.5.0",
            "_model_name": "HTMLModel",
            "_view_count": null,
            "_view_module": "@jupyter-widgets/controls",
            "_view_module_version": "1.5.0",
            "_view_name": "HTMLView",
            "description": "",
            "description_tooltip": null,
            "layout": "IPY_MODEL_f5ae7f361c1d495d9e24ea356cbf498a",
            "placeholder": "​",
            "style": "IPY_MODEL_c53cbe356bf7477396d2c510ff7b6a22",
            "value": " 90/90 [00:02&lt;00:00, 16.42it/s]"
          }
        },
        "8cc5d795a9b14ef7b5b105f9f04183c4": {
          "model_module": "@jupyter-widgets/base",
          "model_name": "LayoutModel",
          "model_module_version": "1.2.0",
          "state": {
            "_model_module": "@jupyter-widgets/base",
            "_model_module_version": "1.2.0",
            "_model_name": "LayoutModel",
            "_view_count": null,
            "_view_module": "@jupyter-widgets/base",
            "_view_module_version": "1.2.0",
            "_view_name": "LayoutView",
            "align_content": null,
            "align_items": null,
            "align_self": null,
            "border": null,
            "bottom": null,
            "display": null,
            "flex": null,
            "flex_flow": null,
            "grid_area": null,
            "grid_auto_columns": null,
            "grid_auto_flow": null,
            "grid_auto_rows": null,
            "grid_column": null,
            "grid_gap": null,
            "grid_row": null,
            "grid_template_areas": null,
            "grid_template_columns": null,
            "grid_template_rows": null,
            "height": null,
            "justify_content": null,
            "justify_items": null,
            "left": null,
            "margin": null,
            "max_height": null,
            "max_width": null,
            "min_height": null,
            "min_width": null,
            "object_fit": null,
            "object_position": null,
            "order": null,
            "overflow": null,
            "overflow_x": null,
            "overflow_y": null,
            "padding": null,
            "right": null,
            "top": null,
            "visibility": null,
            "width": null
          }
        },
        "ce9a0eb60a4246acaff0e4525ba83a45": {
          "model_module": "@jupyter-widgets/base",
          "model_name": "LayoutModel",
          "model_module_version": "1.2.0",
          "state": {
            "_model_module": "@jupyter-widgets/base",
            "_model_module_version": "1.2.0",
            "_model_name": "LayoutModel",
            "_view_count": null,
            "_view_module": "@jupyter-widgets/base",
            "_view_module_version": "1.2.0",
            "_view_name": "LayoutView",
            "align_content": null,
            "align_items": null,
            "align_self": null,
            "border": null,
            "bottom": null,
            "display": null,
            "flex": null,
            "flex_flow": null,
            "grid_area": null,
            "grid_auto_columns": null,
            "grid_auto_flow": null,
            "grid_auto_rows": null,
            "grid_column": null,
            "grid_gap": null,
            "grid_row": null,
            "grid_template_areas": null,
            "grid_template_columns": null,
            "grid_template_rows": null,
            "height": null,
            "justify_content": null,
            "justify_items": null,
            "left": null,
            "margin": null,
            "max_height": null,
            "max_width": null,
            "min_height": null,
            "min_width": null,
            "object_fit": null,
            "object_position": null,
            "order": null,
            "overflow": null,
            "overflow_x": null,
            "overflow_y": null,
            "padding": null,
            "right": null,
            "top": null,
            "visibility": null,
            "width": null
          }
        },
        "e3f7c1fb16d84f8ead96ba3eb75f9c6b": {
          "model_module": "@jupyter-widgets/controls",
          "model_name": "DescriptionStyleModel",
          "model_module_version": "1.5.0",
          "state": {
            "_model_module": "@jupyter-widgets/controls",
            "_model_module_version": "1.5.0",
            "_model_name": "DescriptionStyleModel",
            "_view_count": null,
            "_view_module": "@jupyter-widgets/base",
            "_view_module_version": "1.2.0",
            "_view_name": "StyleView",
            "description_width": ""
          }
        },
        "2efbf49d9dfc4aa19fdd08591f4bb769": {
          "model_module": "@jupyter-widgets/base",
          "model_name": "LayoutModel",
          "model_module_version": "1.2.0",
          "state": {
            "_model_module": "@jupyter-widgets/base",
            "_model_module_version": "1.2.0",
            "_model_name": "LayoutModel",
            "_view_count": null,
            "_view_module": "@jupyter-widgets/base",
            "_view_module_version": "1.2.0",
            "_view_name": "LayoutView",
            "align_content": null,
            "align_items": null,
            "align_self": null,
            "border": null,
            "bottom": null,
            "display": null,
            "flex": null,
            "flex_flow": null,
            "grid_area": null,
            "grid_auto_columns": null,
            "grid_auto_flow": null,
            "grid_auto_rows": null,
            "grid_column": null,
            "grid_gap": null,
            "grid_row": null,
            "grid_template_areas": null,
            "grid_template_columns": null,
            "grid_template_rows": null,
            "height": null,
            "justify_content": null,
            "justify_items": null,
            "left": null,
            "margin": null,
            "max_height": null,
            "max_width": null,
            "min_height": null,
            "min_width": null,
            "object_fit": null,
            "object_position": null,
            "order": null,
            "overflow": null,
            "overflow_x": null,
            "overflow_y": null,
            "padding": null,
            "right": null,
            "top": null,
            "visibility": null,
            "width": null
          }
        },
        "3e35f701008d4efc8e400768ca340c4b": {
          "model_module": "@jupyter-widgets/controls",
          "model_name": "ProgressStyleModel",
          "model_module_version": "1.5.0",
          "state": {
            "_model_module": "@jupyter-widgets/controls",
            "_model_module_version": "1.5.0",
            "_model_name": "ProgressStyleModel",
            "_view_count": null,
            "_view_module": "@jupyter-widgets/base",
            "_view_module_version": "1.2.0",
            "_view_name": "StyleView",
            "bar_color": null,
            "description_width": ""
          }
        },
        "f5ae7f361c1d495d9e24ea356cbf498a": {
          "model_module": "@jupyter-widgets/base",
          "model_name": "LayoutModel",
          "model_module_version": "1.2.0",
          "state": {
            "_model_module": "@jupyter-widgets/base",
            "_model_module_version": "1.2.0",
            "_model_name": "LayoutModel",
            "_view_count": null,
            "_view_module": "@jupyter-widgets/base",
            "_view_module_version": "1.2.0",
            "_view_name": "LayoutView",
            "align_content": null,
            "align_items": null,
            "align_self": null,
            "border": null,
            "bottom": null,
            "display": null,
            "flex": null,
            "flex_flow": null,
            "grid_area": null,
            "grid_auto_columns": null,
            "grid_auto_flow": null,
            "grid_auto_rows": null,
            "grid_column": null,
            "grid_gap": null,
            "grid_row": null,
            "grid_template_areas": null,
            "grid_template_columns": null,
            "grid_template_rows": null,
            "height": null,
            "justify_content": null,
            "justify_items": null,
            "left": null,
            "margin": null,
            "max_height": null,
            "max_width": null,
            "min_height": null,
            "min_width": null,
            "object_fit": null,
            "object_position": null,
            "order": null,
            "overflow": null,
            "overflow_x": null,
            "overflow_y": null,
            "padding": null,
            "right": null,
            "top": null,
            "visibility": null,
            "width": null
          }
        },
        "c53cbe356bf7477396d2c510ff7b6a22": {
          "model_module": "@jupyter-widgets/controls",
          "model_name": "DescriptionStyleModel",
          "model_module_version": "1.5.0",
          "state": {
            "_model_module": "@jupyter-widgets/controls",
            "_model_module_version": "1.5.0",
            "_model_name": "DescriptionStyleModel",
            "_view_count": null,
            "_view_module": "@jupyter-widgets/base",
            "_view_module_version": "1.2.0",
            "_view_name": "StyleView",
            "description_width": ""
          }
        },
        "efc08ca390fc49abb0cd1259d327a749": {
          "model_module": "@jupyter-widgets/controls",
          "model_name": "HBoxModel",
          "model_module_version": "1.5.0",
          "state": {
            "_dom_classes": [],
            "_model_module": "@jupyter-widgets/controls",
            "_model_module_version": "1.5.0",
            "_model_name": "HBoxModel",
            "_view_count": null,
            "_view_module": "@jupyter-widgets/controls",
            "_view_module_version": "1.5.0",
            "_view_name": "HBoxView",
            "box_style": "",
            "children": [
              "IPY_MODEL_1302aa54a288417f9327791846f8edbe",
              "IPY_MODEL_fdb2b40db9a149e79a8adb12589f6f3d",
              "IPY_MODEL_b7fbe4c23cf0494ea70eecf2838ecb32"
            ],
            "layout": "IPY_MODEL_9eef68bed81f47678c318e0ae8891a3a"
          }
        },
        "1302aa54a288417f9327791846f8edbe": {
          "model_module": "@jupyter-widgets/controls",
          "model_name": "HTMLModel",
          "model_module_version": "1.5.0",
          "state": {
            "_dom_classes": [],
            "_model_module": "@jupyter-widgets/controls",
            "_model_module_version": "1.5.0",
            "_model_name": "HTMLModel",
            "_view_count": null,
            "_view_module": "@jupyter-widgets/controls",
            "_view_module_version": "1.5.0",
            "_view_name": "HTMLView",
            "description": "",
            "description_tooltip": null,
            "layout": "IPY_MODEL_7f51748ea05e4092bf1e6f8ca8594ea9",
            "placeholder": "​",
            "style": "IPY_MODEL_0cadc98c10d749ce9e2b81e933c00eeb",
            "value": "100%"
          }
        },
        "fdb2b40db9a149e79a8adb12589f6f3d": {
          "model_module": "@jupyter-widgets/controls",
          "model_name": "FloatProgressModel",
          "model_module_version": "1.5.0",
          "state": {
            "_dom_classes": [],
            "_model_module": "@jupyter-widgets/controls",
            "_model_module_version": "1.5.0",
            "_model_name": "FloatProgressModel",
            "_view_count": null,
            "_view_module": "@jupyter-widgets/controls",
            "_view_module_version": "1.5.0",
            "_view_name": "ProgressView",
            "bar_style": "success",
            "description": "",
            "description_tooltip": null,
            "layout": "IPY_MODEL_fc45a30a6f574b5dab7e88efb6b36320",
            "max": 50,
            "min": 0,
            "orientation": "horizontal",
            "style": "IPY_MODEL_ad3f7273ca69439cb996ff4ce5081932",
            "value": 50
          }
        },
        "b7fbe4c23cf0494ea70eecf2838ecb32": {
          "model_module": "@jupyter-widgets/controls",
          "model_name": "HTMLModel",
          "model_module_version": "1.5.0",
          "state": {
            "_dom_classes": [],
            "_model_module": "@jupyter-widgets/controls",
            "_model_module_version": "1.5.0",
            "_model_name": "HTMLModel",
            "_view_count": null,
            "_view_module": "@jupyter-widgets/controls",
            "_view_module_version": "1.5.0",
            "_view_name": "HTMLView",
            "description": "",
            "description_tooltip": null,
            "layout": "IPY_MODEL_79257857ac15415bb7c0b5c4399b8380",
            "placeholder": "​",
            "style": "IPY_MODEL_dfe98e7f3ff24ce1b300b9343a2a8f89",
            "value": " 50/50 [00:22&lt;00:00,  1.81it/s]"
          }
        },
        "9eef68bed81f47678c318e0ae8891a3a": {
          "model_module": "@jupyter-widgets/base",
          "model_name": "LayoutModel",
          "model_module_version": "1.2.0",
          "state": {
            "_model_module": "@jupyter-widgets/base",
            "_model_module_version": "1.2.0",
            "_model_name": "LayoutModel",
            "_view_count": null,
            "_view_module": "@jupyter-widgets/base",
            "_view_module_version": "1.2.0",
            "_view_name": "LayoutView",
            "align_content": null,
            "align_items": null,
            "align_self": null,
            "border": null,
            "bottom": null,
            "display": null,
            "flex": null,
            "flex_flow": null,
            "grid_area": null,
            "grid_auto_columns": null,
            "grid_auto_flow": null,
            "grid_auto_rows": null,
            "grid_column": null,
            "grid_gap": null,
            "grid_row": null,
            "grid_template_areas": null,
            "grid_template_columns": null,
            "grid_template_rows": null,
            "height": null,
            "justify_content": null,
            "justify_items": null,
            "left": null,
            "margin": null,
            "max_height": null,
            "max_width": null,
            "min_height": null,
            "min_width": null,
            "object_fit": null,
            "object_position": null,
            "order": null,
            "overflow": null,
            "overflow_x": null,
            "overflow_y": null,
            "padding": null,
            "right": null,
            "top": null,
            "visibility": null,
            "width": null
          }
        },
        "7f51748ea05e4092bf1e6f8ca8594ea9": {
          "model_module": "@jupyter-widgets/base",
          "model_name": "LayoutModel",
          "model_module_version": "1.2.0",
          "state": {
            "_model_module": "@jupyter-widgets/base",
            "_model_module_version": "1.2.0",
            "_model_name": "LayoutModel",
            "_view_count": null,
            "_view_module": "@jupyter-widgets/base",
            "_view_module_version": "1.2.0",
            "_view_name": "LayoutView",
            "align_content": null,
            "align_items": null,
            "align_self": null,
            "border": null,
            "bottom": null,
            "display": null,
            "flex": null,
            "flex_flow": null,
            "grid_area": null,
            "grid_auto_columns": null,
            "grid_auto_flow": null,
            "grid_auto_rows": null,
            "grid_column": null,
            "grid_gap": null,
            "grid_row": null,
            "grid_template_areas": null,
            "grid_template_columns": null,
            "grid_template_rows": null,
            "height": null,
            "justify_content": null,
            "justify_items": null,
            "left": null,
            "margin": null,
            "max_height": null,
            "max_width": null,
            "min_height": null,
            "min_width": null,
            "object_fit": null,
            "object_position": null,
            "order": null,
            "overflow": null,
            "overflow_x": null,
            "overflow_y": null,
            "padding": null,
            "right": null,
            "top": null,
            "visibility": null,
            "width": null
          }
        },
        "0cadc98c10d749ce9e2b81e933c00eeb": {
          "model_module": "@jupyter-widgets/controls",
          "model_name": "DescriptionStyleModel",
          "model_module_version": "1.5.0",
          "state": {
            "_model_module": "@jupyter-widgets/controls",
            "_model_module_version": "1.5.0",
            "_model_name": "DescriptionStyleModel",
            "_view_count": null,
            "_view_module": "@jupyter-widgets/base",
            "_view_module_version": "1.2.0",
            "_view_name": "StyleView",
            "description_width": ""
          }
        },
        "fc45a30a6f574b5dab7e88efb6b36320": {
          "model_module": "@jupyter-widgets/base",
          "model_name": "LayoutModel",
          "model_module_version": "1.2.0",
          "state": {
            "_model_module": "@jupyter-widgets/base",
            "_model_module_version": "1.2.0",
            "_model_name": "LayoutModel",
            "_view_count": null,
            "_view_module": "@jupyter-widgets/base",
            "_view_module_version": "1.2.0",
            "_view_name": "LayoutView",
            "align_content": null,
            "align_items": null,
            "align_self": null,
            "border": null,
            "bottom": null,
            "display": null,
            "flex": null,
            "flex_flow": null,
            "grid_area": null,
            "grid_auto_columns": null,
            "grid_auto_flow": null,
            "grid_auto_rows": null,
            "grid_column": null,
            "grid_gap": null,
            "grid_row": null,
            "grid_template_areas": null,
            "grid_template_columns": null,
            "grid_template_rows": null,
            "height": null,
            "justify_content": null,
            "justify_items": null,
            "left": null,
            "margin": null,
            "max_height": null,
            "max_width": null,
            "min_height": null,
            "min_width": null,
            "object_fit": null,
            "object_position": null,
            "order": null,
            "overflow": null,
            "overflow_x": null,
            "overflow_y": null,
            "padding": null,
            "right": null,
            "top": null,
            "visibility": null,
            "width": null
          }
        },
        "ad3f7273ca69439cb996ff4ce5081932": {
          "model_module": "@jupyter-widgets/controls",
          "model_name": "ProgressStyleModel",
          "model_module_version": "1.5.0",
          "state": {
            "_model_module": "@jupyter-widgets/controls",
            "_model_module_version": "1.5.0",
            "_model_name": "ProgressStyleModel",
            "_view_count": null,
            "_view_module": "@jupyter-widgets/base",
            "_view_module_version": "1.2.0",
            "_view_name": "StyleView",
            "bar_color": null,
            "description_width": ""
          }
        },
        "79257857ac15415bb7c0b5c4399b8380": {
          "model_module": "@jupyter-widgets/base",
          "model_name": "LayoutModel",
          "model_module_version": "1.2.0",
          "state": {
            "_model_module": "@jupyter-widgets/base",
            "_model_module_version": "1.2.0",
            "_model_name": "LayoutModel",
            "_view_count": null,
            "_view_module": "@jupyter-widgets/base",
            "_view_module_version": "1.2.0",
            "_view_name": "LayoutView",
            "align_content": null,
            "align_items": null,
            "align_self": null,
            "border": null,
            "bottom": null,
            "display": null,
            "flex": null,
            "flex_flow": null,
            "grid_area": null,
            "grid_auto_columns": null,
            "grid_auto_flow": null,
            "grid_auto_rows": null,
            "grid_column": null,
            "grid_gap": null,
            "grid_row": null,
            "grid_template_areas": null,
            "grid_template_columns": null,
            "grid_template_rows": null,
            "height": null,
            "justify_content": null,
            "justify_items": null,
            "left": null,
            "margin": null,
            "max_height": null,
            "max_width": null,
            "min_height": null,
            "min_width": null,
            "object_fit": null,
            "object_position": null,
            "order": null,
            "overflow": null,
            "overflow_x": null,
            "overflow_y": null,
            "padding": null,
            "right": null,
            "top": null,
            "visibility": null,
            "width": null
          }
        },
        "dfe98e7f3ff24ce1b300b9343a2a8f89": {
          "model_module": "@jupyter-widgets/controls",
          "model_name": "DescriptionStyleModel",
          "model_module_version": "1.5.0",
          "state": {
            "_model_module": "@jupyter-widgets/controls",
            "_model_module_version": "1.5.0",
            "_model_name": "DescriptionStyleModel",
            "_view_count": null,
            "_view_module": "@jupyter-widgets/base",
            "_view_module_version": "1.2.0",
            "_view_name": "StyleView",
            "description_width": ""
          }
        }
      }
    }
  },
  "nbformat": 4,
  "nbformat_minor": 0
}